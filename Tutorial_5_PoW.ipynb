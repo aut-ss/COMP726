{
  "nbformat": 4,
  "nbformat_minor": 0,
  "metadata": {
    "celltoolbar": "Raw Cell Format",
    "kernelspec": {
      "display_name": "Python 3",
      "language": "python",
      "name": "python3"
    },
    "language_info": {
      "codemirror_mode": {
        "name": "ipython",
        "version": 3
      },
      "file_extension": ".py",
      "mimetype": "text/x-python",
      "name": "python",
      "nbconvert_exporter": "python",
      "pygments_lexer": "ipython3",
      "version": "3.6.5"
    },
    "colab": {
      "name": "Tutorial_5_PoW.ipynb",
      "provenance": [],
      "toc_visible": true
    }
  },
  "cells": [
    {
      "cell_type": "markdown",
      "metadata": {
        "id": "-1F_WkaPU92j",
        "colab_type": "text"
      },
      "source": [
        "# Introduction\n",
        "This [Jupyter](https://jupyter.org/) notebook can be run using [colab.research.google.com](https://colab.research.google.com). See [here](https://colab.research.google.com/notebooks/intro.ipynb) for an intro. Alternatively this can be downloaded and run locally with [Anaconda](https://docs.anaconda.com/anaconda/navigator/). Jupyter and Anaconda should be installed in all AUT engineering and computer science labs. I recommend using the Goolge web-interface.\n",
        "\n",
        "The benefit of using Jupyter is that code snippets can be run live (Python is running in the background).\n",
        "\n",
        "The version on Github is static; markdown is rendered but code cannot be executed. All code can be copied and pasted into your favourite text editor or IDE and *should* run with Python 3.x ;)\n",
        "\n",
        "You are encouraged to use any programming language you feel comfortable with, this is simply an example using Python (and Jupyter is designed for Python demonstrations).\n",
        "\n",
        "---"
      ]
    },
    {
      "cell_type": "markdown",
      "metadata": {
        "id": "TKJO15meU92h",
        "colab_type": "text"
      },
      "source": [
        "# Tutorial: Proof of Work - Mining "
      ]
    },
    {
      "cell_type": "markdown",
      "metadata": {
        "id": "VeDAzJ7HU92k",
        "colab_type": "text"
      },
      "source": [
        "**_Proof of work_** is the unique contribution to the bitcoin protocol that achieves two aims:\n",
        "1. allows nodes to vote with their hashpower to achieve consensus\n",
        "2. keeps the network secure by aligning incentives.\n",
        "\n",
        "We have seen in the previous tutorials some of the uses of hashing with the `hashlib` library. Because a standard hash function like `sha256` is random, meaning there is no way to game the system or shortcut the output, it allows equal participation from anyone in the network. If one participant chooses to dedicate all of their computers and resources to hashing, then they are allowed more \"votes\" in the network and will receive proportionally more rewards for their effort.\n",
        "\n",
        "This whole process is referred to as _mining_ because it is analagous to gold mining.\n",
        "\n",
        "So lets get mining!"
      ]
    },
    {
      "cell_type": "markdown",
      "metadata": {
        "id": "irwHMEkuU92k",
        "colab_type": "text"
      },
      "source": [
        "### Prepare a block to be mined"
      ]
    },
    {
      "cell_type": "code",
      "metadata": {
        "id": "sl6HqyRQU92l",
        "colab_type": "code",
        "colab": {
          "base_uri": "https://localhost:8080/",
          "height": 54
        },
        "outputId": "e2ff5103-961f-42b0-caa9-e6cf4bde0c65"
      },
      "source": [
        "# we will need pickle to turn our block into a byte object\n",
        "# sha256 operates one byte at a time\n",
        "import hashlib\n",
        "import pickle\n",
        "\n",
        "# create a new block\n",
        "block = {   'timestamp': 1553200425.597771,\n",
        "            'transactions': ['a','b','c'],\n",
        "            'prev_hash': '00574faf29dbb37a3b12c2f8f5c05cf03c708313d4ad1d5d968cd2438beea104',\n",
        "            'merkle_root': 'aa0522a507b6499cb3512494908ac9220',\n",
        "        }\n",
        "\n",
        "# pickle the block\n",
        "pickled_block = pickle.dumps(block)\n",
        "print(pickled_block)"
      ],
      "execution_count": 77,
      "outputs": [
        {
          "output_type": "stream",
          "text": [
            "b'\\x80\\x03}q\\x00(X\\t\\x00\\x00\\x00timestampq\\x01GA\\xd7$\\xfdJfA\\xe1X\\x0c\\x00\\x00\\x00transactionsq\\x02]q\\x03(X\\x01\\x00\\x00\\x00aq\\x04X\\x01\\x00\\x00\\x00bq\\x05X\\x01\\x00\\x00\\x00cq\\x06eX\\t\\x00\\x00\\x00prev_hashq\\x07X@\\x00\\x00\\x0000574faf29dbb37a3b12c2f8f5c05cf03c708313d4ad1d5d968cd2438beea104q\\x08X\\x0b\\x00\\x00\\x00merkle_rootq\\tX!\\x00\\x00\\x00aa0522a507b6499cb3512494908ac9220q\\nu.'\n"
          ],
          "name": "stdout"
        }
      ]
    },
    {
      "cell_type": "markdown",
      "metadata": {
        "id": "tqWmDuOhU92q",
        "colab_type": "text"
      },
      "source": [
        "This block is in byte form (the `'b`) and can now be hashed. Lets see what it looks like."
      ]
    },
    {
      "cell_type": "code",
      "metadata": {
        "id": "MJW9gk-RU92q",
        "colab_type": "code",
        "colab": {
          "base_uri": "https://localhost:8080/",
          "height": 34
        },
        "outputId": "202a0e42-9c43-4c47-8cc2-91d806f79c3f"
      },
      "source": [
        "# hash the block and output a digest of hexidecimal digits\n",
        "hashed_block = hashlib.sha256(pickled_block).hexdigest()\n",
        "print(hashed_block)"
      ],
      "execution_count": 78,
      "outputs": [
        {
          "output_type": "stream",
          "text": [
            "6c257095d5b9eac35f9f0f6503c49f54e336f79c5943d3bb12e3ba4589b7639e\n"
          ],
          "name": "stdout"
        }
      ]
    },
    {
      "cell_type": "markdown",
      "metadata": {
        "id": "uMvKlzetU92t",
        "colab_type": "text"
      },
      "source": [
        "Every time we hash this same block with sha256 we will get the same unique output. In this case repeated hashing will not change the output. \n",
        "\n",
        "Lets introduce a variable that is added to the block. This variable doesn't change the data in the block, but allows for a different hash output. It is a **number** we will use **once**, then hash, test, update, and hash again. This is called a **nonce**.\n",
        "\n",
        "This simple example shows how a nonce changes the hash:"
      ]
    },
    {
      "cell_type": "code",
      "metadata": {
        "id": "rkjQ5uNRU92t",
        "colab_type": "code",
        "colab": {
          "base_uri": "https://localhost:8080/",
          "height": 289
        },
        "outputId": "7df0a7ee-34e5-4583-829c-8b7d252da340"
      },
      "source": [
        "# choose 16 because a hex output has 16 digits\n",
        "for nonce in range(16):\n",
        "    print(str(nonce)+'_block_nonce')"
      ],
      "execution_count": 79,
      "outputs": [
        {
          "output_type": "stream",
          "text": [
            "0_block_nonce\n",
            "1_block_nonce\n",
            "2_block_nonce\n",
            "3_block_nonce\n",
            "4_block_nonce\n",
            "5_block_nonce\n",
            "6_block_nonce\n",
            "7_block_nonce\n",
            "8_block_nonce\n",
            "9_block_nonce\n",
            "10_block_nonce\n",
            "11_block_nonce\n",
            "12_block_nonce\n",
            "13_block_nonce\n",
            "14_block_nonce\n",
            "15_block_nonce\n"
          ],
          "name": "stdout"
        }
      ]
    },
    {
      "cell_type": "markdown",
      "metadata": {
        "id": "9HkGEyGrU92w",
        "colab_type": "text"
      },
      "source": [
        "Now output the hash of the above strings:"
      ]
    },
    {
      "cell_type": "code",
      "metadata": {
        "id": "IdGstJILU92w",
        "colab_type": "code",
        "colab": {
          "base_uri": "https://localhost:8080/",
          "height": 289
        },
        "outputId": "9e84e61e-2e10-4f1e-efce-03dbbbf96afa"
      },
      "source": [
        "for nonce in range(16):  \n",
        "    print(hashlib.sha256((str(nonce)+'block_nonce').encode()).hexdigest())"
      ],
      "execution_count": 80,
      "outputs": [
        {
          "output_type": "stream",
          "text": [
            "3dd1f24bf0a4e624a2cb40919297bf1b7d7c5e48b3ca395c6e61ee2ad8f51637\n",
            "2732ba4727c3a2b9b0244654affb31545168a504193a85ec86e63c37b1752190\n",
            "22be81a20ce2c6de24d1e95d223290f5cc87c866c02a92f70b0a49c0ec337215\n",
            "4faa8101f2776b329ae6da3c973b6e74a54e963a110d92f53d7b20a82c38fddc\n",
            "3e557abe5079371b8eff947c1a5c69982a69c7e2e486d89cd3b979352ac0ee8a\n",
            "422f4b4bc2e211b4964a79e25c2f23b14dab189693ae9ced01068159857a7c9c\n",
            "3843b8dc09f93eb2e3b39654486d80ee0f6d3b2cd573554a7ab9ff3397c5b6ed\n",
            "22ea30afd6c105358926b5f7d72ca6944aaee7c9865d1d50653c5c0159763db9\n",
            "b5e24d04ae74a1fc754882215e22ceb40a4257910a7fc17b81ae5689f0f8d92e\n",
            "a287c7cacb668082e4a2eebbb74c65e01019fc8c9e1c43a87f8601de189026fd\n",
            "b50e1115525a09d3c5ed5015c369b1f3278d5a3289de28c99104b7e9de1d7110\n",
            "091c41e1694a6cf7da4a3b5df8e9656cec6f118ddb19fa733849270d3d084e8d\n",
            "76793ad61014322d0bc5d25ff5b60d2f136d7e63cc367032224ee356920c8c19\n",
            "843f1603f6b8e455ac429bb3d7d298ccb5e68f3c4dec5b7211ae717c721e8e2d\n",
            "a858f37660f2466f26b167b36017509ccf6a586dc6b354d5c362a32302350e7c\n",
            "82cba63d49f0f1db07006a83314c9489b8359dc74a52bae256a71946634afd64\n"
          ],
          "name": "stdout"
        }
      ]
    },
    {
      "cell_type": "markdown",
      "metadata": {
        "id": "xa2n23LSU920",
        "colab_type": "text"
      },
      "source": [
        "There should be no pattern to the hashed values above. All that was changed was the nonce. Since a hexidecial number has 16 possible digits (0-9,a-f), there should be a one-sixteenth probability that the first digit of the digest is a `0`. (How many are above?)\n",
        "\n",
        "What is the probability that the first *two* digits are: `00`? \n",
        "\n",
        "$P($ `00` $)=\\left(\\frac{1}{16}\\right)\\left(\\frac{1}{16}\\right)=\\frac{1}{16^2}=\\frac{1}{256}=0.3906\\%$\n",
        "\n",
        "So the probability the first $n$ digits are `0` is:\n",
        "\n",
        "$P($ `0` $^n)=\\frac{1}{16^n}$\n",
        "\n",
        "As the number of zeroes increase, the probability of finding a hash with those leading zeroes goes down. If we are looking for a hash with `00` at the beginning this is called the _target difficulty_. Mining a successful block means finding a hash that is below the target value. One way to do this is to take the hash string and compare the first digit(s)."
      ]
    },
    {
      "cell_type": "code",
      "metadata": {
        "id": "iqG65E_zU921",
        "colab_type": "code",
        "colab": {
          "base_uri": "https://localhost:8080/",
          "height": 238
        },
        "outputId": "459045d7-2a9b-44cf-d985-a82ab2b56b83"
      },
      "source": [
        "# set the number of leading zeroes\n",
        "target = 1\n",
        "\n",
        "# loop through the hashes checking each one\n",
        "for nonce in range(16):  \n",
        "    hash = hashlib.sha256((str(nonce)+'block_nonce').encode()).hexdigest()\n",
        "    print(str(hash))\n",
        "    \n",
        "    # check the string up to the indexed difficulty and compare\n",
        "    # note python string manipulation: '0'*5 = 00000; this is string multiplication\n",
        "    if hash[:target] == '0'*target:\n",
        "        print('Block Found!')\n",
        "        break\n",
        "        \n",
        "    # end of range condition\n",
        "    if nonce == 15: print('Block not found')\n",
        "    "
      ],
      "execution_count": 81,
      "outputs": [
        {
          "output_type": "stream",
          "text": [
            "3dd1f24bf0a4e624a2cb40919297bf1b7d7c5e48b3ca395c6e61ee2ad8f51637\n",
            "2732ba4727c3a2b9b0244654affb31545168a504193a85ec86e63c37b1752190\n",
            "22be81a20ce2c6de24d1e95d223290f5cc87c866c02a92f70b0a49c0ec337215\n",
            "4faa8101f2776b329ae6da3c973b6e74a54e963a110d92f53d7b20a82c38fddc\n",
            "3e557abe5079371b8eff947c1a5c69982a69c7e2e486d89cd3b979352ac0ee8a\n",
            "422f4b4bc2e211b4964a79e25c2f23b14dab189693ae9ced01068159857a7c9c\n",
            "3843b8dc09f93eb2e3b39654486d80ee0f6d3b2cd573554a7ab9ff3397c5b6ed\n",
            "22ea30afd6c105358926b5f7d72ca6944aaee7c9865d1d50653c5c0159763db9\n",
            "b5e24d04ae74a1fc754882215e22ceb40a4257910a7fc17b81ae5689f0f8d92e\n",
            "a287c7cacb668082e4a2eebbb74c65e01019fc8c9e1c43a87f8601de189026fd\n",
            "b50e1115525a09d3c5ed5015c369b1f3278d5a3289de28c99104b7e9de1d7110\n",
            "091c41e1694a6cf7da4a3b5df8e9656cec6f118ddb19fa733849270d3d084e8d\n",
            "Block Found!\n"
          ],
          "name": "stdout"
        }
      ]
    },
    {
      "cell_type": "markdown",
      "metadata": {
        "id": "FU5O6Pw9U924",
        "colab_type": "text"
      },
      "source": [
        "Our loop breaks after 12 iterations because we've satisfied the condition; in this case find a single leading zero.\n",
        "\n",
        "***\n",
        "\n",
        "Up to this point we have just been hashing a string `'_block_nonce'`. Lets now use our block."
      ]
    },
    {
      "cell_type": "code",
      "metadata": {
        "id": "oa_3Aj3BU924",
        "colab_type": "code",
        "colab": {
          "base_uri": "https://localhost:8080/",
          "height": 68
        },
        "outputId": "1d4ae125-c445-4a46-cb02-321b212bb0af"
      },
      "source": [
        "# !!caution!! - setting difficulty too high could result in waiting until the heat death of the universe to find your block\n",
        "difficulty = 4\n",
        "nonce = 1\n",
        "block_found = False\n",
        "\n",
        "# this will loop until a block is found\n",
        "while block_found == False:\n",
        "    # add a nonce value to the block, here it is prepended\n",
        "    work = hashlib.sha256(bytes(nonce) + pickled_block)\n",
        "    \n",
        "    # check to see if the hash meets the target\n",
        "    if work.hexdigest()[:target] == '0'*target:\n",
        "        block_found = True\n",
        "        \n",
        "        # output some data\n",
        "        print('Target Difficulty: ' + str(target))\n",
        "        print('Nonce: ' + str(nonce))\n",
        "        print('Proof-of-work: ' + work.hexdigest())\n",
        "        \n",
        "    # update the nonce before looping\n",
        "    # this ensures the block is different before it is hashed again    \n",
        "    nonce += 1\n",
        "    \n",
        "# you may have to wait 10-20 seconds for output to appear below. Change the difficulty value and compare."
      ],
      "execution_count": 82,
      "outputs": [
        {
          "output_type": "stream",
          "text": [
            "Target Difficulty: 1\n",
            "Nonce: 12\n",
            "Proof-of-work: 00a0e1126574df7a6be693eb9602bc4b9abac88672318945550630ce5315efc6\n"
          ],
          "name": "stdout"
        }
      ]
    },
    {
      "cell_type": "markdown",
      "metadata": {
        "id": "KOvFdRab8fWS",
        "colab_type": "text"
      },
      "source": [
        "The nonce indicates how many times the loop was run which is how many `SHA-256` hashes were calculated. When you hear people say that bitcoin mining involves \"solving complex puzzles\" this is what they are referring to. Sidebar: these **aren't puzzles at all!** It is simply an algorithm to manipulate bits and compare to a target condition.\n",
        "\n",
        "```python\n",
        "Difficulty: 4\n",
        "Nonce: 102591\n",
        "Proof-of-work: 0000ee2830b3999eec469cc16a81f0eb6a163e84ece694803adaf3392b74804b\n",
        "```\n",
        "\n",
        "Above I set the difficulty to 4 and can see that the hash was calculated 102,591 times before meeting the condition."
      ]
    },
    {
      "cell_type": "markdown",
      "metadata": {
        "id": "Ryrfese_U927",
        "colab_type": "text"
      },
      "source": [
        "### Add a system timer for analysis"
      ]
    },
    {
      "cell_type": "markdown",
      "metadata": {
        "id": "tcRh99qlU928",
        "colab_type": "text"
      },
      "source": [
        "Change the difficulty value above and compare the different outputs. Adding a timer can help with the comparison."
      ]
    },
    {
      "cell_type": "code",
      "metadata": {
        "id": "W9zlRJdOU928",
        "colab_type": "code",
        "colab": {
          "base_uri": "https://localhost:8080/",
          "height": 85
        },
        "outputId": "f49eb2ba-c43b-4a3a-c5c8-4e739315a139"
      },
      "source": [
        "target = 4\n",
        "nonce = 1\n",
        "block_found = False\n",
        "\n",
        "# access the system clock and record the start time\n",
        "import time\n",
        "start = time.time()\n",
        "while block_found == False:\n",
        "    work = hashlib.sha256(bytes(nonce) + pickled_block)\n",
        "    if work.hexdigest()[:target] == '0'*target:\n",
        "        end = time.time()\n",
        "        block_found = True\n",
        "        print('Target Difficulty: ' + str(target))\n",
        "        print('Nonce: ' + str(nonce))\n",
        "        print('Proof-of-work: ' + work.hexdigest())\n",
        "        \n",
        "        # calculate and print the time; this will output in seconds\n",
        "        print('Elapsed time: ' + str(end - start))\n",
        "    nonce += 1"
      ],
      "execution_count": 83,
      "outputs": [
        {
          "output_type": "stream",
          "text": [
            "Target Difficulty: 4\n",
            "Nonce: 102591\n",
            "Proof-of-work: 0000ee2830b3999eec469cc16a81f0eb6a163e84ece694803adaf3392b74804b\n",
            "Elapsed time: 5.101187467575073\n"
          ],
          "name": "stdout"
        }
      ]
    },
    {
      "cell_type": "markdown",
      "metadata": {
        "id": "HCgzJDuJU92-",
        "colab_type": "text"
      },
      "source": [
        "### Generate random blocks"
      ]
    },
    {
      "cell_type": "markdown",
      "metadata": {
        "id": "4sZdFEKSU92_",
        "colab_type": "text"
      },
      "source": [
        "Re-running this will take similar times because we keep hashing the same block with the same nonce. In practice, once a block is found, the miners start mining the next block which contains different transactions. Introducing some random bytes into our block can help you with generating \"new\" blocks to analyse mining and difficulty performance."
      ]
    },
    {
      "cell_type": "code",
      "metadata": {
        "id": "Eb0K9yFiU92_",
        "colab_type": "code",
        "colab": {
          "base_uri": "https://localhost:8080/",
          "height": 85
        },
        "outputId": "147ef694-2d0a-430a-8398-ed21b2604fcf"
      },
      "source": [
        "# secrets provides access to a secure random number generator. \n",
        "# Refer to documentation for what this means. \n",
        "# Always be cautious when generating random data for important purposes like keys.\n",
        "import secrets\n",
        "# generate random data to append to a block\n",
        "random_data = secrets.token_bytes(4)\n",
        "\n",
        "target = 4\n",
        "nonce = 1\n",
        "block_found = False\n",
        "start = time.time()\n",
        "while block_found == False:\n",
        "    # the block now contains 4 random bytes of data\n",
        "    work = hashlib.sha256(bytes(nonce) + pickled_block + random_data)\n",
        "    if work.hexdigest()[:target] == '0'*target:\n",
        "        end = time.time()\n",
        "        block_found = True\n",
        "        print('Target Difficulty: '+ str(target))\n",
        "        print('Nonce: ' + str(nonce))\n",
        "        print('Proof-of-work: ' + work.hexdigest())\n",
        "        print('Elapsed time: ' + str(end - start))\n",
        "    nonce += 1"
      ],
      "execution_count": 86,
      "outputs": [
        {
          "output_type": "stream",
          "text": [
            "Target Difficulty: 4\n",
            "Nonce: 50144\n",
            "Proof-of-work: 0000861dde5fbb861b760be00d14213104e9296a4a6bf1754e2bbdf218cd3849\n",
            "Elapsed time: 1.3270328044891357\n"
          ],
          "name": "stdout"
        }
      ]
    },
    {
      "cell_type": "markdown",
      "metadata": {
        "id": "mDT8_e-LU93C",
        "colab_type": "text"
      },
      "source": [
        "These results should be fresh. Every time you run this block or access `secrets.token_bytes(4)` the block will change.\n",
        "\n",
        "Compare results I just got:\n",
        "```\n",
        "Target Difficulty: 4\n",
        "Nonce: 276851\n",
        "Proof-of-work: 000067ddf3ef7837481dc818093aea15bce9e4da166bdfc02e9916040e53cb28\n",
        "Elapsed time: 37.96086359024048\n",
        "\n",
        "Target Difficulty: 4\n",
        "Nonce: 22947\n",
        "Proof-of-work: 0000f9b8371941856efe3f94f09b36bbc9580de5451ab058f04c0cb53580154a\n",
        "Elapsed time: 0.6624038219451904\n",
        "```\n",
        "\n",
        "This shows the lottery-like nature of using hash functions and target difficulty values. The second set found a proof-of-work in 0.66 s and the first one took 57 times longer!\n",
        "\n",
        "---"
      ]
    },
    {
      "cell_type": "markdown",
      "metadata": {
        "id": "_MF0iUJi_ZWO",
        "colab_type": "text"
      },
      "source": [
        "## Probability\n",
        "As more miners come online to try to earn coins (and process transactions) the difficulty must adjust to maintain the blocktime. Without this difficulty adjustment the group with the most hashpower would have already mined all the available coins in any proof of work network, likely causing the value to crash.\n",
        "\n",
        "The difficulty set in this tutorial goes up by powers of 16; there is a sixteen-fold increase in time expected to find a block as the leading zeroes go from `0000` to `00000`. (Try with 5 or 6 and see how long you have to wait.) What if you want difficulty to increase only by a factor or two? (See exercise #1)\n",
        "\n",
        "Lets look at the probability of finding a block."
      ]
    },
    {
      "cell_type": "code",
      "metadata": {
        "id": "Bp2l-mUqDFiD",
        "colab_type": "code",
        "colab": {
          "base_uri": "https://localhost:8080/",
          "height": 35
        },
        "outputId": "cc61ed73-ebe3-4aac-be11-f629fcc188fb"
      },
      "source": [
        "# one leading zero to start\n",
        "diff = 1\n",
        "prob = 1/16\n",
        "print(prob)"
      ],
      "execution_count": null,
      "outputs": [
        {
          "output_type": "stream",
          "text": [
            "0.0625\n"
          ],
          "name": "stdout"
        }
      ]
    },
    {
      "cell_type": "code",
      "metadata": {
        "id": "2-QkGHB0DakK",
        "colab_type": "code",
        "colab": {
          "base_uri": "https://localhost:8080/",
          "height": 35
        },
        "outputId": "dff8db41-d8fe-4538-f4c7-a234bf61f2dc"
      },
      "source": [
        "diff = 2\n",
        "prob = 1/(16**diff)\n",
        "print(prob)"
      ],
      "execution_count": null,
      "outputs": [
        {
          "output_type": "stream",
          "text": [
            "0.00390625\n"
          ],
          "name": "stdout"
        }
      ]
    },
    {
      "cell_type": "code",
      "metadata": {
        "id": "sXsYI-x1DnhY",
        "colab_type": "code",
        "colab": {
          "base_uri": "https://localhost:8080/",
          "height": 277
        },
        "outputId": "2bc21c5e-f0f0-4b41-f712-501b4c7c19b3"
      },
      "source": [
        "#loop through a range and print the results\n",
        "#range(start,stop,step)\n",
        "for diff in range(1,16,1):\n",
        "  prob = 1/(16**diff)\n",
        "  #formatted to show the relative value\n",
        "  print(\"%.20f\" % prob)"
      ],
      "execution_count": null,
      "outputs": [
        {
          "output_type": "stream",
          "text": [
            "0.06250000000000000000\n",
            "0.00390625000000000000\n",
            "0.00024414062500000000\n",
            "0.00001525878906250000\n",
            "0.00000095367431640625\n",
            "0.00000005960464477539\n",
            "0.00000000372529029846\n",
            "0.00000000023283064365\n",
            "0.00000000001455191523\n",
            "0.00000000000090949470\n",
            "0.00000000000005684342\n",
            "0.00000000000000355271\n",
            "0.00000000000000022204\n",
            "0.00000000000000001388\n",
            "0.00000000000000000087\n"
          ],
          "name": "stdout"
        }
      ]
    },
    {
      "cell_type": "code",
      "metadata": {
        "id": "jCWErcjPHO35",
        "colab_type": "code",
        "colab": {
          "base_uri": "https://localhost:8080/",
          "height": 55
        },
        "outputId": "c29d2093-4d4e-43f8-c5f0-604deef4c3c1"
      },
      "source": [
        "#same as above only stored in an array (python list) to plot\n",
        "prob=[]\n",
        "for diff in range(1,11,1):\n",
        "  prob.append(1/(16**diff))\n",
        "print(prob)\n"
      ],
      "execution_count": null,
      "outputs": [
        {
          "output_type": "stream",
          "text": [
            "[0.0625, 0.00390625, 0.000244140625, 1.52587890625e-05, 9.5367431640625e-07, 5.960464477539063e-08, 3.725290298461914e-09, 2.3283064365386963e-10, 1.4551915228366852e-11, 9.094947017729282e-13]\n"
          ],
          "name": "stdout"
        }
      ]
    },
    {
      "cell_type": "code",
      "metadata": {
        "id": "h8rcPjTTENOa",
        "colab_type": "code",
        "colab": {
          "base_uri": "https://localhost:8080/",
          "height": 350
        },
        "outputId": "46c4aa3f-6a5d-40d2-c9d3-e37c70a17139"
      },
      "source": [
        "#plot using matplotlib\n",
        "import matplotlib.pyplot as plt\n",
        "import numpy as np\n",
        "%matplotlib inline\n",
        "fig = plt.figure()\n",
        "ax = fig.add_axes([0,0,1,1])\n",
        "ax.set_xlabel('difficulty')\n",
        "ax.set_ylabel('probability')\n",
        "ax.plot(prob,'r*')\n",
        "plt.show()\n"
      ],
      "execution_count": null,
      "outputs": [
        {
          "output_type": "display_data",
          "data": {
            "image/png": "[encoded data removed]",
            "text/plain": [
              "<Figure size 432x288 with 1 Axes>"
            ]
          },
          "metadata": {
            "tags": [],
            "needs_background": "light"
          }
        }
      ]
    },
    {
      "cell_type": "markdown",
      "metadata": {
        "id": "AnfejiO5ODxy",
        "colab_type": "text"
      },
      "source": [
        "This shows the probability for a single hash to reach our target difficulty: a 6.25% chance to find 1-leading zero. \n",
        "\n",
        "The proof of work for Bitcoin block 642428 was:\n",
        "`00000000000000000006a19bf1ef2f829baf3937d3ed11d6d545b947f3214aef`.\n",
        "This has 19 leading zeroes! To increase your odds you can (a) use a faster processor (b) use more processors in parallel."
      ]
    },
    {
      "cell_type": "markdown",
      "metadata": {
        "id": "p_jrFvbeVtQB",
        "colab_type": "text"
      },
      "source": [
        "## Difficulty\n",
        "Up to this point we have used the term target difficulty to mean the number of leading bits that are zero in a hexidecimal format. When looking up difficulty on the [web](http://bitcoin.sipa.be/) you will get a different value, for example: the difficulty when the above block was mined was `16847561611550.27`.\n",
        "\n",
        "What does this mean? Lets use a smaller set for analogy. Suppose the set size was 100; all integers between 0 and 100 are valid possibilities in our lottery. If the target is set at 5, then any number less than 5 is a winner: 0,1,2,3,4. \n",
        "Now, the formula for difficulty is:\n",
        "\n",
        "$\\text{difficulty}=\\frac{\\text{set size}}{\\text{target}}$\n",
        "\n",
        "so, $\\text{difficulty}=\\frac{100}{5}=20$ attempts to find a number less than 5.\n",
        "\n",
        "The difficulty is a measure of how many times you need to attempt the lottery to find a winner, as a statistical measure over time.\n"
      ]
    },
    {
      "cell_type": "code",
      "metadata": {
        "id": "DvDQpbqVc2pX",
        "colab_type": "code",
        "colab": {
          "base_uri": "https://localhost:8080/",
          "height": 35
        },
        "outputId": "7b0b0338-fcca-44f5-a615-c4ea8b4f4bfc"
      },
      "source": [
        "#calculate bitcoin's difficulty\n",
        "#the maximum number of values that can be output \n",
        "#from SHA256 are 2^256 -1, or approximately \n",
        "#0x00000000FFFFFFFFFFFFFFFFFFFFFFFFFFFFFFFFFFFFFFFFFFFFFFFFFFFFFFFF\n",
        "set_size = 0x00000000FFFFFFFFFFFFFFFFFFFFFFFFFFFFFFFFFFFFFFFFFFFFFFFFFFFFFFFF\n",
        "print(set_size)"
      ],
      "execution_count": null,
      "outputs": [
        {
          "output_type": "stream",
          "text": [
            "26959946667150639794667015087019630673637144422540572481103610249215\n"
          ],
          "name": "stdout"
        }
      ]
    },
    {
      "cell_type": "code",
      "metadata": {
        "id": "C9fPVH7nhJPV",
        "colab_type": "code",
        "colab": {
          "base_uri": "https://localhost:8080/",
          "height": 35
        },
        "outputId": "ebf125e1-4e5a-4fec-a375-425204cf9397"
      },
      "source": [
        "#recently found block's proof of work (copied from web)\n",
        "recent_PoW = 0x00000000000000000006a19bf1ef2f829baf3937d3ed11d6d545b947f3214aef\n",
        "print(recent_PoW)"
      ],
      "execution_count": null,
      "outputs": [
        {
          "output_type": "stream",
          "text": [
            "635150993263517698594173322392862366704541828537993967\n"
          ],
          "name": "stdout"
        }
      ]
    },
    {
      "cell_type": "code",
      "metadata": {
        "id": "jqt8DBeJhdPd",
        "colab_type": "code",
        "colab": {
          "base_uri": "https://localhost:8080/",
          "height": 35
        },
        "outputId": "0f13013d-d87b-45f9-c6cb-1ec2879a8a8c"
      },
      "source": [
        "#calculate difficulty value\n",
        "difficulty = set_size / recent_PoW\n",
        "print(difficulty)"
      ],
      "execution_count": null,
      "outputs": [
        {
          "output_type": "stream",
          "text": [
            "42446515794025.11\n"
          ],
          "name": "stdout"
        }
      ]
    },
    {
      "cell_type": "markdown",
      "metadata": {
        "id": "oQNb2pIcU93C",
        "colab_type": "text"
      },
      "source": [
        "# Summary"
      ]
    },
    {
      "cell_type": "markdown",
      "metadata": {
        "id": "DNjcKdvnU93D",
        "colab_type": "text"
      },
      "source": [
        "In this tutorial we have:<br>\n",
        " - added a nonce to our block\n",
        " - hashed blocks until they meet a difficulty requirement\n",
        " - investigated probabilities using `matplotlib`\n",
        " - defined and calculated difficulty\n",
        " \n",
        "What we have __not__ done is:<br>\n",
        " - set a target value that is not a power of 16\n",
        " - dynamically adjusted target values\n",
        " - appended mined blocks to a chain\n",
        " \n",
        "Python libraries that this code depends on:\n",
        " - [hashlib](https://docs.python.org/3/library/hashlib.html)\n",
        " - [pickle](https://docs.python.org/3/library/pickle.html)\n",
        " - [secrets](https://docs.python.org/3/library/secrets.html)\n",
        " - [time](https://docs.python.org/3/library/time.html)\n",
        "\n",
        "Useful links:\n",
        " - [hex to decimal converter](https://www.rapidtables.com/convert/number/hex-to-decimal.html)\n",
        " - [matplotlib quick tutorial](https://www.tutorialspoint.com/matplotlib/matplotlib_quick_guide.htm)\n",
        " - [bitcoin difficulty](https://en.bitcoin.it/wiki/Difficulty)\n",
        "\n",
        " ---"
      ]
    },
    {
      "cell_type": "markdown",
      "metadata": {
        "id": "a7sz5xcAU93E",
        "colab_type": "text"
      },
      "source": [
        "# Exercises"
      ]
    },
    {
      "cell_type": "markdown",
      "metadata": {
        "id": "JEy83VEwU93F",
        "colab_type": "text"
      },
      "source": [
        "1. The calculated difficulty (above) was `42446515794025.11`. Compare this to the difficulty of the network of `16847561611550.27`. Why is there this difference between the two? Investigate the block [here](https://blockchair.com/bitcoin/block/642428).\n",
        "1. Mining difficulty is not only represented by leading zeroes (powers of 16) but by a value (hex number) that is recalculated every 2016 blocks (in Bitcoin). Update your code to include a target difficulty value such that:\n",
        "```python\n",
        "if hash < target: block_found = True\n",
        "```\n",
        "\n",
        "\n",
        "2. Write a script to modify the difficulty every time a block is found faster than expected (increase difficulty) and readjusts if a block is found slower than expected (decrease difficulty).\n",
        "3. Calculate the hashpower of your PC and estimate how long it would take to find a block in the [present bitcoin network](http://bitcoin.sipa.be/)."
      ]
    }
  ]
}