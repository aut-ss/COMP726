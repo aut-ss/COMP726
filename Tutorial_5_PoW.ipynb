{
  "nbformat": 4,
  "nbformat_minor": 0,
  "metadata": {
    "celltoolbar": "Raw Cell Format",
    "kernelspec": {
      "display_name": "Python 3",
      "language": "python",
      "name": "python3"
    },
    "language_info": {
      "codemirror_mode": {
        "name": "ipython",
        "version": 3
      },
      "file_extension": ".py",
      "mimetype": "text/x-python",
      "name": "python",
      "nbconvert_exporter": "python",
      "pygments_lexer": "ipython3",
      "version": "3.6.5"
    },
    "colab": {
      "name": "Tutorial_5_PoW.ipynb",
      "provenance": [],
      "toc_visible": true
    }
  },
  "cells": [
    {
      "cell_type": "markdown",
      "metadata": {
        "id": "-1F_WkaPU92j",
        "colab_type": "text"
      },
      "source": [
        "# Introduction\n",
        "This [Jupyter](https://jupyter.org/) notebook can be run using [colab.research.google.com](https://colab.research.google.com). See [here](https://colab.research.google.com/notebooks/intro.ipynb) for an intro. Alternatively this can be downloaded and run locally with [Anaconda](https://docs.anaconda.com/anaconda/navigator/). Jupyter and Anaconda should be installed in all AUT engineering and computer science labs. I recommend using the Goolge web-interface.\n",
        "\n",
        "The benefit of using Jupyter is that code snippets can be run live (Python is running in the background).\n",
        "\n",
        "The version on Github is static; markdown is rendered but code cannot be executed. All code can be copied and pasted into your favourite text editor or IDE and *should* run with Python 3.x ;)\n",
        "\n",
        "You are encouraged to use any programming language you feel comfortable with, this is simply an example using Python (and Jupyter is designed for Python demonstrations).\n",
        "\n",
        "---"
      ]
    },
    {
      "cell_type": "markdown",
      "metadata": {
        "id": "TKJO15meU92h",
        "colab_type": "text"
      },
      "source": [
        "# Tutorial: Proof of Work - Mining "
      ]
    },
    {
      "cell_type": "markdown",
      "metadata": {
        "id": "VeDAzJ7HU92k",
        "colab_type": "text"
      },
      "source": [
        "**_Proof of work_** is the unique contribution to the bitcoin protocol that achieves two aims:\n",
        "1. allows nodes to vote with their hashpower to achieve consensus\n",
        "2. keeps the network secure by aligning incentives.\n",
        "\n",
        "We have seen in the previous tutorials some of the uses of hashing with the `hashlib` library. Because a standard hash function like `sha256` is random, meaning there is no way to game the system or shortcut the output, it allows equal participation from anyone in the network. If one participant chooses to dedicate all of their computers and resources to hashing, then they are allowed more \"votes\" in the network and will receive proportionally more rewards for their effort.\n",
        "\n",
        "This whole process is referred to as _mining_ because it is analagous to gold mining.\n",
        "\n",
        "So lets get mining!"
      ]
    },
    {
      "cell_type": "markdown",
      "metadata": {
        "id": "irwHMEkuU92k",
        "colab_type": "text"
      },
      "source": [
        "### Prepare a block to be mined\n",
        "Press `shift-enter` in the cell to run it. You may have to wait for the environment to initialize if this is the first time. There is a status bar above.\n",
        "\n",
        "The out put will appear directly below the code block."
      ]
    },
    {
      "cell_type": "code",
      "metadata": {
        "id": "sl6HqyRQU92l",
        "colab_type": "code",
        "colab": {}
      },
      "source": [
        "# we will need pickle to turn our block into a byte object\n",
        "# sha256 operates one byte at a time\n",
        "import hashlib\n",
        "import pickle\n",
        "\n",
        "# create a new block using sample values\n",
        "block = {   'timestamp': 1553200425.597771,\n",
        "            'transactions': ['a','b','c'],\n",
        "            'prev_hash': '00574faf29dbb37a3b12c2f8f5c05cf03c708313d4ad1d5d968cd2438beea104',\n",
        "            'merkle_root': 'aa0522a507b6499cb3512494908ac9220',\n",
        "        }\n",
        "\n",
        "# pickle the block\n",
        "pickled_block = pickle.dumps(block)\n",
        "print(pickled_block)"
      ],
      "execution_count": null,
      "outputs": []
    },
    {
      "cell_type": "markdown",
      "metadata": {
        "id": "tqWmDuOhU92q",
        "colab_type": "text"
      },
      "source": [
        "This block is in byte form (the `'b`) and can now be hashed. Lets see what it looks like."
      ]
    },
    {
      "cell_type": "code",
      "metadata": {
        "id": "MJW9gk-RU92q",
        "colab_type": "code",
        "colab": {}
      },
      "source": [
        "# hash the block and output a digest of hexidecimal digits\n",
        "hashed_block = hashlib.sha256(pickled_block).hexdigest()\n",
        "print(hashed_block)"
      ],
      "execution_count": null,
      "outputs": []
    },
    {
      "cell_type": "markdown",
      "metadata": {
        "id": "uMvKlzetU92t",
        "colab_type": "text"
      },
      "source": [
        "Every time we hash this same block with sha256 we will get the same unique output. In this case repeated hashing will not change the output. \n",
        "\n",
        "Lets introduce a variable that is added to the block. This variable doesn't change the data in the block, but allows for a different hash output. It is a **number** we will use **once**, then hash, test, update, and hash again. This is called a **nonce**.\n",
        "\n",
        "This simple example shows how a nonce changes the hash:"
      ]
    },
    {
      "cell_type": "code",
      "metadata": {
        "id": "rkjQ5uNRU92t",
        "colab_type": "code",
        "colab": {}
      },
      "source": [
        "# choose 16 because a hex output has 16 digits\n",
        "for nonce in range(16):\n",
        "    print(str(nonce)+'_block_nonce')"
      ],
      "execution_count": null,
      "outputs": []
    },
    {
      "cell_type": "markdown",
      "metadata": {
        "id": "9HkGEyGrU92w",
        "colab_type": "text"
      },
      "source": [
        "Now output the hash of the above strings:"
      ]
    },
    {
      "cell_type": "code",
      "metadata": {
        "id": "IdGstJILU92w",
        "colab_type": "code",
        "colab": {}
      },
      "source": [
        "for nonce in range(16):  \n",
        "    print(hashlib.sha256((str(nonce)+'block_nonce').encode()).hexdigest())"
      ],
      "execution_count": null,
      "outputs": []
    },
    {
      "cell_type": "markdown",
      "metadata": {
        "id": "xa2n23LSU920",
        "colab_type": "text"
      },
      "source": [
        "There should be no pattern to the hashed values above. All that was changed was the nonce. Since a hexidecial number has 16 possible digits (0-9,a-f), there should be a one-sixteenth probability that the first digit of the digest is a `0`. (How many are above?)\n",
        "\n",
        "What is the probability that the first *two* digits are: `00`? \n",
        "\n",
        "$P($ `00` $)=\\left(\\frac{1}{16}\\right)\\left(\\frac{1}{16}\\right)=\\frac{1}{16^2}=\\frac{1}{256}=0.3906\\%$\n",
        "\n",
        "So the probability the first $n$ digits are `0` is:\n",
        "\n",
        "$P($ `0` $^n)=\\frac{1}{16^n}$\n",
        "\n",
        "As the number of zeroes increase, the probability of finding a hash with those leading zeroes goes down. If we are looking for a hash with `00` at the beginning this is called the _target difficulty_. Mining a successful block means finding a hash that is below the target value. One way to do this is to take the hash string and compare the first digit(s)."
      ]
    },
    {
      "cell_type": "code",
      "metadata": {
        "id": "iqG65E_zU921",
        "colab_type": "code",
        "colab": {}
      },
      "source": [
        "# set the number of leading zeroes\n",
        "target = 1\n",
        "\n",
        "# loop through the hashes checking each one\n",
        "for nonce in range(16):  \n",
        "    hash = hashlib.sha256((str(nonce)+'block_nonce').encode()).hexdigest()\n",
        "    print(str(hash))\n",
        "    \n",
        "    # check the string up to the indexed difficulty and compare\n",
        "    # note python string manipulation: '0'*5 = 00000; this is string multiplication\n",
        "    if hash[:target] == '0'*target:\n",
        "        print('Block Found!')\n",
        "        break\n",
        "        \n",
        "    # end of range condition\n",
        "    if nonce == 15: print('Block not found')\n",
        "    "
      ],
      "execution_count": null,
      "outputs": []
    },
    {
      "cell_type": "markdown",
      "metadata": {
        "id": "FU5O6Pw9U924",
        "colab_type": "text"
      },
      "source": [
        "Our loop breaks after 12 iterations because we've satisfied the condition; in this case find a single leading zero.\n",
        "\n",
        "***\n",
        "\n",
        "Up to this point we have just been hashing a string `'_block_nonce'`. Lets now use our block."
      ]
    },
    {
      "cell_type": "code",
      "metadata": {
        "id": "oa_3Aj3BU924",
        "colab_type": "code",
        "colab": {}
      },
      "source": [
        "# !!caution!! - setting difficulty too high could result in waiting until the heat death of the universe to find your block\n",
        "difficulty = 4\n",
        "nonce = 1\n",
        "block_found = False\n",
        "\n",
        "# this will loop until a block is found\n",
        "while block_found == False:\n",
        "    # add a nonce value to the block, here it is prepended\n",
        "    work = hashlib.sha256(bytes(nonce) + pickled_block)\n",
        "    \n",
        "    # check to see if the hash meets the target\n",
        "    if work.hexdigest()[:target] == '0'*target:\n",
        "        block_found = True\n",
        "        \n",
        "        # output some data\n",
        "        print('Target Difficulty: ' + str(target))\n",
        "        print('Nonce: ' + str(nonce))\n",
        "        print('Proof-of-work: ' + work.hexdigest())\n",
        "        \n",
        "    # update the nonce before looping\n",
        "    # this ensures the block is different before it is hashed again    \n",
        "    nonce += 1\n",
        "    \n",
        "# you may have to wait 10-20 seconds for output to appear below. Change the difficulty value and compare."
      ],
      "execution_count": null,
      "outputs": []
    },
    {
      "cell_type": "markdown",
      "metadata": {
        "id": "KOvFdRab8fWS",
        "colab_type": "text"
      },
      "source": [
        "The nonce indicates how many times the loop was run which is how many `SHA-256` hashes were calculated. When you hear people say that bitcoin mining involves \"solving complex puzzles\" this is what they are referring to. Sidebar: these **aren't puzzles at all!** It is simply an algorithm to manipulate bits and compare to a target condition.\n",
        "\n",
        "```python\n",
        "Difficulty: 4\n",
        "Nonce: 102591\n",
        "Proof-of-work: 0000ee2830b3999eec469cc16a81f0eb6a163e84ece694803adaf3392b74804b\n",
        "```\n",
        "\n",
        "Above I set the difficulty to 4 and can see that the hash was calculated 102,591 times before meeting the condition."
      ]
    },
    {
      "cell_type": "markdown",
      "metadata": {
        "id": "Ryrfese_U927",
        "colab_type": "text"
      },
      "source": [
        "### Add a system timer for analysis"
      ]
    },
    {
      "cell_type": "markdown",
      "metadata": {
        "id": "tcRh99qlU928",
        "colab_type": "text"
      },
      "source": [
        "Change the difficulty value above and compare the different outputs. Adding a timer can help with the comparison."
      ]
    },
    {
      "cell_type": "code",
      "metadata": {
        "id": "W9zlRJdOU928",
        "colab_type": "code",
        "colab": {}
      },
      "source": [
        "target = 4\n",
        "nonce = 1\n",
        "block_found = False\n",
        "\n",
        "# access the system clock and record the start time\n",
        "import time\n",
        "start = time.time()\n",
        "while block_found == False:\n",
        "    work = hashlib.sha256(bytes(nonce) + pickled_block)\n",
        "    if work.hexdigest()[:target] == '0'*target:\n",
        "        end = time.time()\n",
        "        block_found = True\n",
        "        print('Target Difficulty: ' + str(target))\n",
        "        print('Nonce: ' + str(nonce))\n",
        "        print('Proof-of-work: ' + work.hexdigest())\n",
        "        \n",
        "        # calculate and print the time; this will output in seconds\n",
        "        print('Elapsed time: ' + str(end - start))\n",
        "    nonce += 1"
      ],
      "execution_count": null,
      "outputs": []
    },
    {
      "cell_type": "markdown",
      "metadata": {
        "id": "HCgzJDuJU92-",
        "colab_type": "text"
      },
      "source": [
        "### Generate random blocks"
      ]
    },
    {
      "cell_type": "markdown",
      "metadata": {
        "id": "4sZdFEKSU92_",
        "colab_type": "text"
      },
      "source": [
        "Re-running this will take similar times because we keep hashing the same block with the same nonce. In practice, once a block is found, the miners start mining the next block which contains different transactions. Introducing some random bytes into our block can help you with generating \"new\" blocks to analyse mining and difficulty performance."
      ]
    },
    {
      "cell_type": "code",
      "metadata": {
        "id": "Eb0K9yFiU92_",
        "colab_type": "code",
        "colab": {}
      },
      "source": [
        "# secrets provides access to a secure random number generator. \n",
        "# Refer to documentation for what this means. \n",
        "# Always be cautious when generating random data for important purposes like keys.\n",
        "import secrets\n",
        "# generate random data to append to a block\n",
        "random_data = secrets.token_bytes(4)\n",
        "\n",
        "target = 4\n",
        "nonce = 1\n",
        "block_found = False\n",
        "start = time.time()\n",
        "while block_found == False:\n",
        "    # the block now contains 4 random bytes of data\n",
        "    work = hashlib.sha256(bytes(nonce) + pickled_block + random_data)\n",
        "    if work.hexdigest()[:target] == '0'*target:\n",
        "        end = time.time()\n",
        "        block_found = True\n",
        "        print('Target Difficulty: '+ str(target))\n",
        "        print('Nonce: ' + str(nonce))\n",
        "        print('Proof-of-work: ' + work.hexdigest())\n",
        "        print('Elapsed time: ' + str(end - start))\n",
        "    nonce += 1"
      ],
      "execution_count": null,
      "outputs": []
    },
    {
      "cell_type": "markdown",
      "metadata": {
        "id": "mDT8_e-LU93C",
        "colab_type": "text"
      },
      "source": [
        "These results should be fresh. Every time you run this block or access `secrets.token_bytes(4)` the block will change.\n",
        "\n",
        "Compare results I just got:\n",
        "```\n",
        "Target Difficulty: 4\n",
        "Nonce: 276851\n",
        "Proof-of-work: 000067ddf3ef7837481dc818093aea15bce9e4da166bdfc02e9916040e53cb28\n",
        "Elapsed time: 37.96086359024048\n",
        "\n",
        "Target Difficulty: 4\n",
        "Nonce: 22947\n",
        "Proof-of-work: 0000f9b8371941856efe3f94f09b36bbc9580de5451ab058f04c0cb53580154a\n",
        "Elapsed time: 0.6624038219451904\n",
        "```\n",
        "\n",
        "This shows the lottery-like nature of using hash functions and target difficulty values. The second set found a proof-of-work in 0.66 s and the first one took 57 times longer!\n",
        "\n",
        "---"
      ]
    },
    {
      "cell_type": "markdown",
      "metadata": {
        "id": "_MF0iUJi_ZWO",
        "colab_type": "text"
      },
      "source": [
        "## Probability\n",
        "As more miners come online to try to earn coins (and process transactions) the difficulty must adjust to maintain the blocktime. Without this difficulty adjustment the group with the most hashpower would have already mined all the available coins in any proof of work network, likely causing the value to crash.\n",
        "\n",
        "The difficulty set in this tutorial goes up by powers of 16; there is a sixteen-fold increase in time expected to find a block as the leading zeroes go from `0000` to `00000`. (Try with 5 or 6 and see how long you have to wait.) What if you want difficulty to increase only by a factor or two? (See exercise #1)\n",
        "\n",
        "Lets look at the probability of finding a block."
      ]
    },
    {
      "cell_type": "code",
      "metadata": {
        "id": "Bp2l-mUqDFiD",
        "colab_type": "code",
        "colab": {}
      },
      "source": [
        "# one leading zero to start\n",
        "diff = 1\n",
        "prob = 1/16\n",
        "print(prob)"
      ],
      "execution_count": null,
      "outputs": []
    },
    {
      "cell_type": "code",
      "metadata": {
        "id": "2-QkGHB0DakK",
        "colab_type": "code",
        "colab": {}
      },
      "source": [
        "diff = 2\n",
        "prob = 1/(16**diff)\n",
        "print(prob)"
      ],
      "execution_count": null,
      "outputs": []
    },
    {
      "cell_type": "code",
      "metadata": {
        "id": "sXsYI-x1DnhY",
        "colab_type": "code",
        "colab": {}
      },
      "source": [
        "#loop through a range and print the results\n",
        "#range(start,stop,step)\n",
        "for diff in range(1,16,1):\n",
        "  prob = 1/(16**diff)\n",
        "  #formatted to show the relative value\n",
        "  print(\"%.20f\" % prob)"
      ],
      "execution_count": null,
      "outputs": []
    },
    {
      "cell_type": "code",
      "metadata": {
        "id": "jCWErcjPHO35",
        "colab_type": "code",
        "colab": {}
      },
      "source": [
        "#same as above only stored in an array (python list) to plot\n",
        "prob=[]\n",
        "for diff in range(1,11,1):\n",
        "  prob.append(1/(16**diff))\n",
        "print(prob)\n"
      ],
      "execution_count": null,
      "outputs": []
    },
    {
      "cell_type": "code",
      "metadata": {
        "id": "h8rcPjTTENOa",
        "colab_type": "code",
        "colab": {}
      },
      "source": [
        "#plot using matplotlib\n",
        "import matplotlib.pyplot as plt\n",
        "import numpy as np\n",
        "%matplotlib inline\n",
        "fig = plt.figure()\n",
        "ax = fig.add_axes([0,0,1,1])\n",
        "ax.set_xlabel('difficulty')\n",
        "ax.set_ylabel('probability')\n",
        "ax.plot(prob,'r*')\n",
        "plt.show()\n"
      ],
      "execution_count": null,
      "outputs": []
    },
    {
      "cell_type": "markdown",
      "metadata": {
        "id": "AnfejiO5ODxy",
        "colab_type": "text"
      },
      "source": [
        "This shows the probability for a single hash to reach our target difficulty: a 6.25% chance to find 1-leading zero. \n",
        "\n",
        "The proof of work for Bitcoin block 642428 was:\n",
        "`00000000000000000006a19bf1ef2f829baf3937d3ed11d6d545b947f3214aef`.\n",
        "This has 19 leading zeroes! To increase your odds you can (a) use a faster processor (b) use more processors in parallel."
      ]
    },
    {
      "cell_type": "markdown",
      "metadata": {
        "id": "p_jrFvbeVtQB",
        "colab_type": "text"
      },
      "source": [
        "## Difficulty\n",
        "Up to this point we have used the term target difficulty to mean the number of leading bits that are zero in a hexidecimal format. When looking up difficulty on the [web](http://bitcoin.sipa.be/) you will get a different value, for example: the difficulty when the above block was mined was `16847561611550.27`.\n",
        "\n",
        "What does this mean? Lets use a smaller set for analogy. Suppose the set size was 100; all integers between 0 and 100 are valid possibilities in our lottery. If the target is set at 5, then any number less than 5 is a winner: 0,1,2,3,4. \n",
        "Now, the formula for difficulty is:\n",
        "\n",
        "$\\text{difficulty}=\\frac{\\text{set size}}{\\text{target}}$\n",
        "\n",
        "so, $\\text{difficulty}=\\frac{100}{5}=20$ attempts to find a number less than 5.\n",
        "\n",
        "The difficulty is a measure of how many times you need to attempt the lottery to find a winner, as a statistical measure over time.\n"
      ]
    },
    {
      "cell_type": "code",
      "metadata": {
        "id": "DvDQpbqVc2pX",
        "colab_type": "code",
        "colab": {}
      },
      "source": [
        "#calculate bitcoin's difficulty\n",
        "#the maximum number of values that can be output \n",
        "#from SHA256 are 2^256 -1, or approximately \n",
        "#0x00000000FFFFFFFFFFFFFFFFFFFFFFFFFFFFFFFFFFFFFFFFFFFFFFFFFFFFFFFF\n",
        "set_size = 0x00000000FFFFFFFFFFFFFFFFFFFFFFFFFFFFFFFFFFFFFFFFFFFFFFFFFFFFFFFF\n",
        "print(set_size)"
      ],
      "execution_count": null,
      "outputs": []
    },
    {
      "cell_type": "code",
      "metadata": {
        "id": "C9fPVH7nhJPV",
        "colab_type": "code",
        "colab": {}
      },
      "source": [
        "#recently found block's proof of work (copied from web)\n",
        "recent_PoW = 0x00000000000000000006a19bf1ef2f829baf3937d3ed11d6d545b947f3214aef\n",
        "print(recent_PoW)"
      ],
      "execution_count": null,
      "outputs": []
    },
    {
      "cell_type": "code",
      "metadata": {
        "id": "jqt8DBeJhdPd",
        "colab_type": "code",
        "colab": {}
      },
      "source": [
        "#calculate difficulty value\n",
        "difficulty = set_size / recent_PoW\n",
        "print(difficulty)"
      ],
      "execution_count": null,
      "outputs": []
    },
    {
      "cell_type": "markdown",
      "metadata": {
        "id": "oQNb2pIcU93C",
        "colab_type": "text"
      },
      "source": [
        "# Summary"
      ]
    },
    {
      "cell_type": "markdown",
      "metadata": {
        "id": "DNjcKdvnU93D",
        "colab_type": "text"
      },
      "source": [
        "In this tutorial we have:<br>\n",
        " - added a nonce to our block\n",
        " - hashed blocks until they meet a difficulty requirement\n",
        " - investigated probabilities using `matplotlib`\n",
        " - defined and calculated difficulty\n",
        " \n",
        "What we have __not__ done is:<br>\n",
        " - set a target value that is not a power of 16\n",
        " - dynamically adjusted target values\n",
        " - appended mined blocks to a chain\n",
        " \n",
        "Python libraries that this code depends on:\n",
        " - [hashlib](https://docs.python.org/3/library/hashlib.html)\n",
        " - [pickle](https://docs.python.org/3/library/pickle.html)\n",
        " - [secrets](https://docs.python.org/3/library/secrets.html)\n",
        " - [time](https://docs.python.org/3/library/time.html)\n",
        "\n",
        "Useful links:\n",
        " - [hex to decimal converter](https://www.rapidtables.com/convert/number/hex-to-decimal.html)\n",
        " - [matplotlib quick tutorial](https://www.tutorialspoint.com/matplotlib/matplotlib_quick_guide.htm)\n",
        " - [bitcoin difficulty](https://en.bitcoin.it/wiki/Difficulty)\n",
        "\n",
        " ---"
      ]
    },
    {
      "cell_type": "markdown",
      "metadata": {
        "id": "a7sz5xcAU93E",
        "colab_type": "text"
      },
      "source": [
        "# Exercises"
      ]
    },
    {
      "cell_type": "markdown",
      "metadata": {
        "id": "JEy83VEwU93F",
        "colab_type": "text"
      },
      "source": [
        "1. The calculated difficulty (above) was `42446515794025.11`. Compare this to the difficulty of the network of `16847561611550.27`. Why is there this difference between the two? Investigate the block [here](https://blockchair.com/bitcoin/block/642428).\n",
        "1. Mining difficulty is not only represented by leading zeroes (powers of 16) but by a value (hex number) that is recalculated every 2016 blocks (in Bitcoin). Update your code to include a target difficulty value such that:\n",
        "```python\n",
        "if hash < target: block_found = True\n",
        "```\n",
        "\n",
        "2. Write a script to modify the difficulty every time a block is found faster than expected (increase difficulty) and readjusts if a block is found slower than expected (decrease difficulty).\n",
        "3. Calculate the hashpower of your PC and estimate how long it would take to find a block in the [present bitcoin network](http://bitcoin.sipa.be/)."
      ]
    }
  ]
}