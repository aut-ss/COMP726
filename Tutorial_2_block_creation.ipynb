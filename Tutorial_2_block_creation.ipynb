{
  "nbformat": 4,
  "nbformat_minor": 0,
  "metadata": {
    "celltoolbar": "Raw Cell Format",
    "kernelspec": {
      "display_name": "Python 3",
      "language": "python",
      "name": "python3"
    },
    "language_info": {
      "codemirror_mode": {
        "name": "ipython",
        "version": 3
      },
      "file_extension": ".py",
      "mimetype": "text/x-python",
      "name": "python",
      "nbconvert_exporter": "python",
      "pygments_lexer": "ipython3",
      "version": "3.7.1"
    },
    "colab": {
      "name": "Tutorial_4_block_creation.ipynb",
      "provenance": [],
      "collapsed_sections": []
    }
  },
  "cells": [
    {
      "cell_type": "markdown",
      "metadata": {
        "id": "Wfhas-zQyWOL",
        "colab_type": "text"
      },
      "source": [
        "# Introduction\n",
        "This [Jupyter](https://jupyter.org/) notebook can be run using [colab.research.google.com](https://colab.research.google.com). See [here](https://colab.research.google.com/notebooks/intro.ipynb) for an intro. Alternatively this can be downloaded and run locally with [Anaconda](https://docs.anaconda.com/anaconda/navigator/). Jupyter and Anaconda should be installed in all AUT engineering and computer science labs. I recommend using the Goolge web-interface.\n",
        "\n",
        "The benefit of using Jupyter is that code snippets can be run live (Python is running in the background).\n",
        "\n",
        "The version on Github is static; markdown is rendered but code cannot be executed. All code can be copied and pasted into your favourite text editor or IDE and *should* run with Python 3.x ;)\n",
        "\n",
        "You are encouraged to use any programming language you feel comfortable with, this is simply an example using Python (and Jupyter is designed for Python demonstrations).\n",
        "\n",
        "---"
      ]
    },
    {
      "cell_type": "markdown",
      "metadata": {
        "id": "3zQ2aU5Q1PUm",
        "colab_type": "text"
      },
      "source": [
        "#Tutorial: Create a block from scratch using Python"
      ]
    },
    {
      "cell_type": "markdown",
      "metadata": {
        "id": "WIdigUZhyWOQ",
        "colab_type": "text"
      },
      "source": [
        "Blocks can contain anything digital. This 'data' is what is written to the blockchain when a new block is added. This data could be prices of stocks, reddit posts, digital signatures, images (not a good idea), or getting creative it could even be data from another blockchain.\n",
        "\n",
        "To be useful the data will contain many fields such as:<br>\n",
        " - identifier\n",
        " - timestamp\n",
        " - previous hash (to make the chain)\n",
        " - merkle root\n",
        " - list of transactions (the data of interest)\n",
        " \n",
        "These can be stored in a python [dictionary](https://docs.python.org/3/tutorial/datastructures.html?#dictionaries) which is a key-value structure. Think of the key as an index.\n",
        "\n",
        "`dict = {key_1:value_1,\n",
        "         key_2:value_2,\n",
        "        .\n",
        "        .\n",
        "        .\n",
        "        key_n:value_n   \n",
        "}`"
      ]
    },
    {
      "cell_type": "markdown",
      "metadata": {
        "id": "HFqk1erRyWOQ",
        "colab_type": "text"
      },
      "source": [
        "## Initialize a new block. This one will be the _genesis_ block\n",
        "Press ```shift+enter``` to run the individual code cell. Or mouse over and click the play button. See the ```Runtime``` menu for all options.\n",
        "\n",
        "You may have to wait for the environment to initialize if this is the first time. There is a status bar above.\n",
        "\n",
        "The out put will appear directly below the code block."
      ]
    },
    {
      "cell_type": "code",
      "metadata": {
        "id": "16U7fOrqyWOR",
        "colab_type": "code",
        "colab": {}
      },
      "source": [
        "# initialize a block. Note 'transactions' is initialized as an empty list\n",
        "block = {\n",
        "    'height':1,\n",
        "    'time':0,\n",
        "    'prevHash':'this is the genesis block',\n",
        "    'merkleRoot': '',\n",
        "    'transactions': []\n",
        "        }\n",
        "print(block)"
      ],
      "execution_count": null,
      "outputs": []
    },
    {
      "cell_type": "markdown",
      "metadata": {
        "id": "jf3pgPm1yWOV",
        "colab_type": "text"
      },
      "source": [
        "## Create a transaction and hash it"
      ]
    },
    {
      "cell_type": "markdown",
      "metadata": {
        "id": "MLKlkGk-yWOV",
        "colab_type": "text"
      },
      "source": [
        "Let's create a transaction to store in our blockchain. Remember a transaction is just data; this can be anything represented as a digital object. "
      ]
    },
    {
      "cell_type": "code",
      "metadata": {
        "id": "pFgbgumjyWOW",
        "colab_type": "code",
        "colab": {}
      },
      "source": [
        "# create a transaction, in this case a string\n",
        "transaction='Pay $1,000,000 to Jeff'\n",
        "print(transaction)"
      ],
      "execution_count": null,
      "outputs": []
    },
    {
      "cell_type": "markdown",
      "metadata": {
        "id": "tXFVFBVbyWOZ",
        "colab_type": "text"
      },
      "source": [
        "To store the transaction object, we will hash it to create a unique identifier of the information. First we will need access to python's hashing library. Then we will hash the 'transaction' object we created above. In the third line we will output the new hashed value.\n",
        "\n",
        "The [hash library](https://docs.python.org/3/library/hashlib.html?#module-hashlib) has access to many standard hash functions. ```SHA-256``` or secure hashing algorithm with a 256 bit output is particularly famous in cryptocurrency.\n"
      ]
    },
    {
      "cell_type": "code",
      "metadata": {
        "id": "S9agpOdnyWOL",
        "colab_type": "code",
        "colab": {}
      },
      "source": [
        "# the hash library has many built-in hash functions such as SHA-1 and MD5\n",
        "import hashlib as hash\n",
        "hashed_tx = hash.sha1(transaction)\n",
        "print(hashed_tx)\n"
      ],
      "execution_count": null,
      "outputs": []
    },
    {
      "cell_type": "markdown",
      "metadata": {
        "id": "lmPYjlI-yWOd",
        "colab_type": "text"
      },
      "source": [
        "```p\n",
        "---------------------------------------------------------------------------\n",
        "TypeError                                 Traceback (most recent call last)\n",
        "<ipython-input-5-8b54d0eb476f> in <module>()\n",
        "      1 # the hash library has many built-in hash functions such as SHA-1 and MD5\n",
        "      2 import hashlib as hash\n",
        "----> 3 hashed_tx = hash.sha1(transaction)\n",
        "      4 print(hashed_tx)\n",
        "\n",
        "TypeError: Unicode-objects must be encoded before hashing\n",
        "```"
      ]
    },
    {
      "cell_type": "markdown",
      "metadata": {
        "id": "89eMIe1cyWOd",
        "colab_type": "text"
      },
      "source": [
        "Here we have an **error in line three**, note the green arrow ```----> 3```\n",
        "\n",
        "The error message is telling us that we cannot hash a string object such as 'Pay $1,000,000 to Jeff'. (Why not?)\n",
        "\n",
        "First it must be encoded."
      ]
    },
    {
      "cell_type": "code",
      "metadata": {
        "id": "fAiq8PmKyWOe",
        "colab_type": "code",
        "colab": {}
      },
      "source": [
        "encoded_tx = transaction.encode()\n",
        "print(encoded_tx)"
      ],
      "execution_count": null,
      "outputs": []
    },
    {
      "cell_type": "markdown",
      "metadata": {
        "id": "5sY7VAUAyWOi",
        "colab_type": "text"
      },
      "source": [
        "Note the output begins with a ```b'``` which is telling us that the string is now a byte object. We can successfully hash a byte object."
      ]
    },
    {
      "cell_type": "code",
      "metadata": {
        "id": "dof_EZu3yWOj",
        "colab_type": "code",
        "colab": {}
      },
      "source": [
        "hashed_tx = hash.sha1(encoded_tx)\n",
        "print(hashed_tx)"
      ],
      "execution_count": null,
      "outputs": []
    },
    {
      "cell_type": "markdown",
      "metadata": {
        "id": "QXm-EmccyWOm",
        "colab_type": "text"
      },
      "source": [
        "This shows a ```SHA-1``` hash object at the specified memory address. Unfortuantely this isn't human-readable and we can't copy and paste it for verification elsewhere. Note that your address is different from your neighbours is different from mine: ```0x7fed...```\n",
        "\n",
        "The `digest()` and `hexdigest()` methods will output byte objects and hex strings respectively. Which type of object would you rather work with?"
      ]
    },
    {
      "cell_type": "code",
      "metadata": {
        "id": "FeWRVBHhyWOn",
        "colab_type": "code",
        "colab": {}
      },
      "source": [
        "print(hashed_tx.digest())\n",
        "print(hashed_tx.hexdigest())"
      ],
      "execution_count": null,
      "outputs": []
    },
    {
      "cell_type": "markdown",
      "metadata": {
        "id": "gHM-iUG6yWOs",
        "colab_type": "text"
      },
      "source": [
        "## Add the transaction to the block"
      ]
    },
    {
      "cell_type": "markdown",
      "metadata": {
        "id": "pL0Ppgwp9E8r",
        "colab_type": "text"
      },
      "source": [
        "We now have a hashed object. This should be unique -- only the specific string ```Pay $1,000,000 to Jeff``` should have the hashed hex output of ```bdda60de962b6bec1b7f05d48ce38fdb25bff21d```. There also should be no **collisions** meaning that if your create a transaction and hash it you will not get the same output. The last thing to note is that this object is a **fixed length**. So if the data was very long (this whole notebook text file) I would still get a 160 bit output (40 hex digits).\n",
        "\n",
        "Lets store this transaction and add it to the ```block``` we created above."
      ]
    },
    {
      "cell_type": "code",
      "metadata": {
        "id": "otMf3-1FyWOt",
        "colab_type": "code",
        "colab": {}
      },
      "source": [
        "hex_tx = hashed_tx.hexdigest()\n",
        "block[\"transactions\"].append(hex_tx)\n",
        "print(block)"
      ],
      "execution_count": null,
      "outputs": []
    },
    {
      "cell_type": "markdown",
      "metadata": {
        "id": "UP7OPgeN_KSQ",
        "colab_type": "text"
      },
      "source": [
        "```transactions``` is an array ```[]``` and we can see the tx output"
      ]
    },
    {
      "cell_type": "markdown",
      "metadata": {
        "id": "oY5GsSS3yWOv",
        "colab_type": "text"
      },
      "source": [
        "## Create a new block and append it to the chain"
      ]
    },
    {
      "cell_type": "markdown",
      "metadata": {
        "id": "MXR0YtgKyWOw",
        "colab_type": "text"
      },
      "source": [
        "This block only has a single transaction (perhaps its the block reward to Jeff ;) Now we will create a new block and append it to the chain. The block is created in the same manner, except we must make a few updates:\n",
        "\n",
        "1.   the blockheight is now incremented by 1\n",
        "2.   the time is incremented by 1\n",
        "3.   the prevHash field with the hash of the genesis block. This will ensure the state of the blockchain is preserved moving forward."
      ]
    },
    {
      "cell_type": "code",
      "metadata": {
        "id": "pu0ZODdAyWOx",
        "colab_type": "code",
        "colab": {}
      },
      "source": [
        "# some attributes have been hard-coded for simplicity\n",
        "block2 = {\n",
        "    'height':2,\n",
        "    'time':1,\n",
        "    'prevHash':'null',\n",
        "    'merkleRoot': 'null',\n",
        "    'transactions': []\n",
        "        }\n",
        "# create a transaction and add it to the block\n",
        "tx = hash.sha1('Alice +10'.encode()).hexdigest()\n",
        "block2[\"transactions\"].append(tx)\n",
        "block2[\"merkleRoot\"] = tx\n",
        "print(block2)"
      ],
      "execution_count": null,
      "outputs": []
    },
    {
      "cell_type": "markdown",
      "metadata": {
        "id": "qbjP0i2AyWO0",
        "colab_type": "text"
      },
      "source": [
        "Note there was only 1 transaction and so this became the ```merkleRoot```. A proper [Merkle root](https://en.wikipedia.org/wiki/Merkle_tree) represents the root of a pairwise transaction tree where every non-leaf node holds the hash of the two child nodes.\n",
        "\n",
        "The only thing left is to link the blocks. For this we need to hash the entire genesis block object. Proceeding as before:"
      ]
    },
    {
      "cell_type": "code",
      "metadata": {
        "id": "cjsmPF4jyWO1",
        "colab_type": "code",
        "colab": {}
      },
      "source": [
        "hash_block_1 = hash.sha1(block.encode())"
      ],
      "execution_count": null,
      "outputs": []
    },
    {
      "cell_type": "markdown",
      "metadata": {
        "id": "tpVtJG4UyWO3",
        "colab_type": "text"
      },
      "source": [
        "Another **error**! This is a uniquely python error. We need to convert the block (dictionary) into a byte object. To do this we need to use the pickle functionality that is built in. You may know this as serialization. Once pickled, we can hash and store as a hex digest."
      ]
    },
    {
      "cell_type": "code",
      "metadata": {
        "id": "iPkAyd9pyWO4",
        "colab_type": "code",
        "colab": {}
      },
      "source": [
        "import pickle\n",
        "# convert to a byte object\n",
        "byte_genesis = pickle.dumps(block)\n",
        "print(byte_genesis)\n",
        "\n",
        "# compress to a human-readable SHA-1 digest\n",
        "hash_genesis = hash.sha1(byte_genesis).hexdigest()\n",
        "print('\\n')\n",
        "print(hash_genesis)"
      ],
      "execution_count": null,
      "outputs": []
    },
    {
      "cell_type": "markdown",
      "metadata": {
        "id": "ABJpVi2PyWO6",
        "colab_type": "text"
      },
      "source": [
        "Earlier we said hashing has the benefit of being fixed length. Here you can see the ```byte_genesis``` output is much longer than our previous byte outputs. \n",
        "\n",
        "Set the ```prevHash``` pointer in ```block2``` to the hash of the genesis block."
      ]
    },
    {
      "cell_type": "code",
      "metadata": {
        "id": "k_OcfNM_yWO7",
        "colab_type": "code",
        "colab": {}
      },
      "source": [
        "# set the prevHash and print the block\n",
        "block2[\"prevHash\"] = hash_genesis\n",
        "for key, value in block2.items():\n",
        "    print(key+': '+str(value)) "
      ],
      "execution_count": null,
      "outputs": []
    },
    {
      "cell_type": "markdown",
      "metadata": {
        "id": "vQyp-kulDy2q",
        "colab_type": "text"
      },
      "source": [
        "###That's the main concept of creating a blockchain!\n",
        "\n",
        "As noted above, the consensus mechanism is a whole other part, but this (hopefully) shows that coding a blockchain is not that intense."
      ]
    },
    {
      "cell_type": "markdown",
      "metadata": {
        "id": "W7xSFhzmyWO-",
        "colab_type": "text"
      },
      "source": [
        "# Modify a transaction to attack the chain"
      ]
    },
    {
      "cell_type": "markdown",
      "metadata": {
        "id": "wdR0HvCFyWO_",
        "colab_type": "text"
      },
      "source": [
        "A hash produces randomized output without any discernable pattern relating to the original data. Lets test this by modifying the transaction in the genesis block, rehashing, and comparing to the prevHash pointer in block2.\n",
        "\n",
        "Changing a single transaction modifies the Merkle root which modifies the block hash and will invalidate the entire chain up to that point in history.\n"
      ]
    },
    {
      "cell_type": "code",
      "metadata": {
        "id": "HaTCUakqyWO_",
        "colab_type": "code",
        "colab": {}
      },
      "source": [
        "# change the dollar sign to a negative sign in the original transaction\n",
        "new_transaction = 'Pay -1,000,000 to Jeff'\n",
        "hashed_new_tx=hash.sha1(new_transaction.encode()).hexdigest()\n",
        "# update the block with the new tx; recall 'block' is the original or genesis block; our tx was at position 0\n",
        "block[\"transactions\"][0]=hashed_new_tx\n",
        "\n",
        "# hash the updated block\n",
        "import pickle\n",
        "byte_genesis_new = pickle.dumps(block)\n",
        "hash_genesis = hash.sha1(byte_genesis_new).hexdigest()\n",
        "\n",
        "# compare hashes\n",
        "if block2[\"prevHash\"] != hash_genesis:\n",
        "    print('Your chain has been attacked!!')"
      ],
      "execution_count": null,
      "outputs": []
    },
    {
      "cell_type": "markdown",
      "metadata": {
        "id": "_cLVaNoByWPC",
        "colab_type": "text"
      },
      "source": [
        "## Summary"
      ]
    },
    {
      "cell_type": "markdown",
      "metadata": {
        "id": "cHM5pIAtyWPC",
        "colab_type": "text"
      },
      "source": [
        "In this tutorial we have:<br>\n",
        " - created a block structure including a list of transactions (data)\n",
        " - hashed the transaction and added it to the block\n",
        " - hashed the entire block\n",
        " - added a new block \n",
        " - linked the two blocks with a previous hash field to create a block chain\n",
        " \n",
        "What we have __not__ done is:<br>\n",
        " - used a real timestamp\n",
        " - use a merkle tree to store the transactions\n",
        " - store the merkle root in our block structure\n",
        " \n",
        "Python libraries that this code depends on:\n",
        " - [hashlib](https://docs.python.org/3/library/hashlib.html)\n",
        " - [pickle](https://docs.python.org/3/library/pickle.html)\n",
        "\n",
        "Other resources:\n",
        "- [python 3 docs](https://docs.python.org/3/)\n",
        "- [Google colab faq](https://research.google.com/colaboratory/faq.html)"
      ]
    },
    {
      "cell_type": "markdown",
      "metadata": {
        "id": "x4sIIT_SyWPD",
        "colab_type": "text"
      },
      "source": [
        "## Exercises"
      ]
    },
    {
      "cell_type": "markdown",
      "metadata": {
        "id": "SbtU8_HZyWPE",
        "colab_type": "text"
      },
      "source": [
        "1. Create your blocks using a real time stamp. (Is there a difference between this and an indexed method?)\n",
        "\n",
        "2. Create a merkle root of the transactions from bitcoin block [641818](https://blockchair.com/bitcoin/block/641818) mined on August 2nd, 2020. A \\*.csv file of the 1870 transactions can be downloaded from this [repo](https://github.com/millecodex/COMP726/blob/master/bitcoin_block_641818.csv). In github click **raw** to see unformatted text. Just use the ```hash``` column representing the tx hash; the other data is not stored in the tree.\n"
      ]
    }
  ]
}
