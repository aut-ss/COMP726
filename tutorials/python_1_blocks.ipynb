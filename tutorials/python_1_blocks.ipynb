{
  "metadata": {
    "celltoolbar": "Raw Cell Format",
    "colab": {
      "collapsed_sections": [],
      "name": "Tutorial_4_block_creation.ipynb",
      "provenance": []
    },
    "kernelspec": {
      "name": "python",
      "display_name": "Python (Pyodide)",
      "language": "python"
    },
    "language_info": {
      "codemirror_mode": {
        "name": "python",
        "version": 3
      },
      "file_extension": ".py",
      "mimetype": "text/x-python",
      "name": "python",
      "nbconvert_exporter": "python",
      "pygments_lexer": "ipython3",
      "version": "3.8"
    }
  },
  "nbformat_minor": 4,
  "nbformat": 4,
  "cells": [
    {
      "cell_type": "markdown",
      "source": "# Introduction\nThis [Jupyter](https://jupyter.org/) notebook can be run using [colab.research.google.com](https://colab.research.google.com) (see [here](https://colab.research.google.com/notebooks/intro.ipynb) for an intro) or from [jupyter.org/try](https://jupyter.org/try) (select JupyterLab). Alternatively this source file can be downloaded and run locally with [Anaconda](https://docs.anaconda.com/anaconda/navigator/) or directly with Jupyter (Lab|Notebook). Jupyter and Anaconda should be installed in all AUT engineering and computer science labs. I recommend using a web-interface for portability.\n\nThe benefit of using Jupyter is that code snippets can be run live (Python is running in the background).\n\nThe version on Github is static; markdown is rendered but code cannot be executed. All code can be copied and pasted into your favourite text editor or IDE and *should* run with Python 3.x ;)\n\nYou are encouraged to use any programming language you feel comfortable with, this is simply an example using Python (and Jupyter is designed for Python demonstrations).\n\n---",
      "metadata": {
        "colab_type": "text",
        "id": "Wfhas-zQyWOL"
      }
    },
    {
      "cell_type": "markdown",
      "source": "# Tutorial: Create a block from scratch using Python",
      "metadata": {
        "colab_type": "text",
        "id": "3zQ2aU5Q1PUm"
      }
    },
    {
      "cell_type": "markdown",
      "source": "Blocks can contain anything digital. This 'data' is what is written to the blockchain when a new block is added. This data could be prices of stocks, reddit posts, digital signatures, images (not a good idea), or---getting creative---it could even be data from another blockchain.\n\nTo be useful the data will contain many fields such as:<br>\n - identifier\n - timestamp\n - previous hash (to make the chain)\n - merkle root\n - list of transactions (the data of interest)\n \nThese can be stored in a python [dictionary](https://docs.python.org/3/tutorial/datastructures.html?#dictionaries) which is a key-value structure. Think of the key as an index.\n\n```dict = {key_1:value_1,\n         key_2:value_2,\n        .\n        .\n        .\n        key_n:value_n   \n}```",
      "metadata": {
        "colab_type": "text",
        "id": "WIdigUZhyWOQ"
      }
    },
    {
      "cell_type": "markdown",
      "source": "## Initialize a new block. This one will be the _genesis_ block\nPress ```shift+enter``` to run the individual code cell. Or mouse over and click the play (run) button. See the ```Kernal/Runtime``` menu for all options.\n\nYou may have to wait for the environment to initialize if this is the first time. There is a status bar above.\n\nThe out put will appear directly below the code block.",
      "metadata": {
        "colab_type": "text",
        "id": "HFqk1erRyWOQ"
      }
    },
    {
      "cell_type": "code",
      "source": "# initialize a block. Note 'transactions' is initialized as an empty list\nblock = {\n    'height':1,\n    'time':0,\n    'prevHash':'this is the genesis block',\n    'merkleRoot': '',\n    'transactions': []\n        }\nprint(block)",
      "metadata": {
        "colab": {},
        "colab_type": "code",
        "id": "16U7fOrqyWOR",
        "trusted": true
      },
      "execution_count": null,
      "outputs": []
    },
    {
      "cell_type": "markdown",
      "source": "## Create a transaction and hash it",
      "metadata": {
        "colab_type": "text",
        "id": "jf3pgPm1yWOV"
      }
    },
    {
      "cell_type": "markdown",
      "source": "Let's create a transaction to store in our blockchain. Remember a transaction is just data; this can be anything represented as a digital object. ",
      "metadata": {
        "colab_type": "text",
        "id": "MLKlkGk-yWOV"
      }
    },
    {
      "cell_type": "code",
      "source": "# create a transaction, in this case a string\ntransaction='Pay $1,000,000 to Jeff'\nprint(transaction)",
      "metadata": {
        "colab": {},
        "colab_type": "code",
        "id": "pFgbgumjyWOW",
        "trusted": true
      },
      "execution_count": null,
      "outputs": []
    },
    {
      "cell_type": "markdown",
      "source": "To store the transaction object, we will hash it to create a unique identifier of the information. First we will need access to python's hashing library. Then we will hash the 'transaction' object we created above. In the third line we will output the new hashed value.\n\nThe [hash library](https://docs.python.org/3/library/hashlib.html?#module-hashlib) has access to many standard hash functions. ```SHA-256``` or secure hashing algorithm with a 256 bit output is particularly famous in cryptocurrency.\n",
      "metadata": {
        "colab_type": "text",
        "id": "tXFVFBVbyWOZ"
      }
    },
    {
      "cell_type": "code",
      "source": "# the hash library has many built-in hash functions such as SHA-1 and MD5\nimport hashlib as hash\nhashed_tx = hash.sha1(transaction)\nprint(hashed_tx)\n",
      "metadata": {
        "colab": {},
        "colab_type": "code",
        "id": "S9agpOdnyWOL",
        "trusted": true
      },
      "execution_count": null,
      "outputs": []
    },
    {
      "cell_type": "markdown",
      "source": "```p\n---------------------------------------------------------------------------\nTypeError                                 Traceback (most recent call last)\n<ipython-input-5-8b54d0eb476f> in <module>()\n      1 # the hash library has many built-in hash functions such as SHA-1 and MD5\n      2 import hashlib as hash\n----> 3 hashed_tx = hash.sha1(transaction)\n      4 print(hashed_tx)\n\nTypeError: Unicode-objects must be encoded before hashing\n```",
      "metadata": {
        "colab_type": "text",
        "id": "lmPYjlI-yWOd"
      }
    },
    {
      "cell_type": "markdown",
      "source": "Here we have an **error in line three**, note the green arrow ```----> 3```\n\nThe error message is telling us that we cannot hash a string object such as 'Pay $1,000,000 to Jeff'. (Why not?)\n\nFirst it must be encoded.",
      "metadata": {
        "colab_type": "text",
        "id": "89eMIe1cyWOd"
      }
    },
    {
      "cell_type": "code",
      "source": "encoded_tx = transaction.encode()\nprint(encoded_tx)",
      "metadata": {
        "colab": {},
        "colab_type": "code",
        "id": "fAiq8PmKyWOe",
        "trusted": true
      },
      "execution_count": null,
      "outputs": []
    },
    {
      "cell_type": "markdown",
      "source": "Note the output begins with a ```b'``` which is telling us that the string is now a byte object. We can successfully hash a byte object.",
      "metadata": {
        "colab_type": "text",
        "id": "5sY7VAUAyWOi"
      }
    },
    {
      "cell_type": "code",
      "source": "hashed_tx = hash.sha1(encoded_tx)\nprint(hashed_tx)",
      "metadata": {
        "colab": {},
        "colab_type": "code",
        "id": "dof_EZu3yWOj",
        "trusted": true
      },
      "execution_count": null,
      "outputs": []
    },
    {
      "cell_type": "markdown",
      "source": "This shows a ```SHA-1``` hash object at the specified memory address. Unfortuantely this isn't human-readable and we can't copy and paste it for verification elsewhere. Note that your address is different from your neighbours is different from mine: ```0x7fed...```\n\nThe `digest()` and `hexdigest()` methods will output byte objects and hex strings respectively. Which type of object would you rather work with?",
      "metadata": {
        "colab_type": "text",
        "id": "QXm-EmccyWOm"
      }
    },
    {
      "cell_type": "code",
      "source": "print(hashed_tx.digest())\nprint(hashed_tx.hexdigest())",
      "metadata": {
        "colab": {},
        "colab_type": "code",
        "id": "FeWRVBHhyWOn",
        "trusted": true
      },
      "execution_count": null,
      "outputs": []
    },
    {
      "cell_type": "markdown",
      "source": "## Add the transaction to the block",
      "metadata": {
        "colab_type": "text",
        "id": "gHM-iUG6yWOs"
      }
    },
    {
      "cell_type": "markdown",
      "source": "We now have a hashed object. This should be unique -- only the specific string ```Pay $1,000,000 to Jeff``` should have the hashed hex output of ```bdda60de962b6bec1b7f05d48ce38fdb25bff21d```. There also should be no **collisions** meaning that if you create a transaction and hash it you will not get the same output. The last thing to note is that this object is a **fixed length**. So if the data was very long (this whole notebook text file, or a Tolstoy novel) I would still get a 160 bit output (40 hex digits).\n\nLets store this transaction and add it to the ```block``` we created above.",
      "metadata": {
        "colab_type": "text",
        "id": "pL0Ppgwp9E8r"
      }
    },
    {
      "cell_type": "code",
      "source": "hex_tx = hashed_tx.hexdigest()\nblock[\"transactions\"].append(hex_tx)\nprint(block)",
      "metadata": {
        "colab": {},
        "colab_type": "code",
        "id": "otMf3-1FyWOt",
        "trusted": true
      },
      "execution_count": null,
      "outputs": []
    },
    {
      "cell_type": "markdown",
      "source": "```transactions``` is an array ```[]``` and we can see the tx output",
      "metadata": {
        "colab_type": "text",
        "id": "UP7OPgeN_KSQ"
      }
    },
    {
      "cell_type": "markdown",
      "source": "## Create a new block and append it to the chain",
      "metadata": {
        "colab_type": "text",
        "id": "oY5GsSS3yWOv"
      }
    },
    {
      "cell_type": "markdown",
      "source": "This block only has a single transaction (perhaps its the block reward to Jeff ;) Now we will create a new block and append it to the chain. The block is created in the same manner, except we must make a few updates:\n\n1.   the blockheight is now incremented by 1\n2.   the time is incremented by 1\n3.   the `prevHash` field gets the hash of the genesis block. This will ensure the state of the blockchain is preserved moving forward.",
      "metadata": {
        "colab_type": "text",
        "id": "MXR0YtgKyWOw"
      }
    },
    {
      "cell_type": "code",
      "source": "# some attributes have been hard-coded for simplicity\nblock2 = {\n    'height':2,\n    'time':1,\n    'prevHash':'null',\n    'merkleRoot': 'null',\n    'transactions': []\n        }\n# create a transaction and add it to the block\ntx = hash.sha1('Alice +10'.encode()).hexdigest()\nblock2[\"transactions\"].append(tx)\nblock2[\"merkleRoot\"] = tx\nprint(block2)",
      "metadata": {
        "colab": {},
        "colab_type": "code",
        "id": "pu0ZODdAyWOx",
        "trusted": true
      },
      "execution_count": null,
      "outputs": []
    },
    {
      "cell_type": "markdown",
      "source": "Note there was only 1 transaction and so this became the ```merkleRoot```. A proper [Merkle root](https://en.wikipedia.org/wiki/Merkle_tree) represents the root of a pairwise transaction tree where every non-leaf node holds the hash of the two child nodes. Merkle trees are very handy and a fundamental part of blockchains.\n\nThe only thing left is to link the blocks. For this we need to hash the entire genesis block object. Proceeding as before:",
      "metadata": {
        "colab_type": "text",
        "id": "qbjP0i2AyWO0"
      }
    },
    {
      "cell_type": "code",
      "source": "hash_block_1 = hash.sha1(block.encode())",
      "metadata": {
        "colab": {},
        "colab_type": "code",
        "id": "cjsmPF4jyWO1",
        "trusted": true
      },
      "execution_count": null,
      "outputs": []
    },
    {
      "cell_type": "markdown",
      "source": "Another **error**! This is a uniquely python error. We need to convert the block (dictionary) into a byte object. To do this we need to use the `pickle` functionality that is built in. You may know this as serialization. Once pickled, we can hash and store as a hex digest.",
      "metadata": {
        "colab_type": "text",
        "id": "tpVtJG4UyWO3"
      }
    },
    {
      "cell_type": "code",
      "source": "import pickle\n# convert to a byte object\nbyte_genesis = pickle.dumps(block)\nprint(byte_genesis)\n\n# compress to a human-readable SHA-1 digest\nhash_genesis = hash.sha1(byte_genesis).hexdigest()\nprint('\\n')\nprint(hash_genesis)",
      "metadata": {
        "colab": {},
        "colab_type": "code",
        "id": "iPkAyd9pyWO4",
        "trusted": true
      },
      "execution_count": null,
      "outputs": []
    },
    {
      "cell_type": "markdown",
      "source": "Earlier we said hashing has the benefit of being fixed length. Here you can see the ```byte_genesis``` output is much longer than our previous byte outputs while `hash_genesis` remains short. \n\nSet the ```prevHash``` pointer in ```block2``` to the hash of the genesis block.",
      "metadata": {
        "colab_type": "text",
        "id": "ABJpVi2PyWO6"
      }
    },
    {
      "cell_type": "code",
      "source": "# set the prevHash and print the block\nblock2[\"prevHash\"] = hash_genesis\nfor key, value in block2.items():\n    print(key+': '+str(value)) ",
      "metadata": {
        "colab": {},
        "colab_type": "code",
        "id": "k_OcfNM_yWO7",
        "trusted": true
      },
      "execution_count": null,
      "outputs": []
    },
    {
      "cell_type": "markdown",
      "source": "### That's the main concept of creating a blockchain! (datastructure)\n\nAs noted above, the consensus mechanism is a whole other part, but this (hopefully) shows that coding a blockchain is not that intense.",
      "metadata": {
        "colab_type": "text",
        "id": "vQyp-kulDy2q"
      }
    },
    {
      "cell_type": "markdown",
      "source": "# Modify a transaction to attack the chain",
      "metadata": {
        "colab_type": "text",
        "id": "W7xSFhzmyWO-"
      }
    },
    {
      "cell_type": "markdown",
      "source": "A hash produces randomized output without any discernable pattern relating to the original data. Lets test this by modifying the transaction in the genesis block, rehashing, and comparing to the `prevHash` pointer in block2.\n\nChanging a single transaction modifies the Merkle root which modifies the block hash and will invalidate the entire chain from that point in history forward.\n",
      "metadata": {
        "colab_type": "text",
        "id": "wdR0HvCFyWO_"
      }
    },
    {
      "cell_type": "code",
      "source": "# change the dollar sign to a negative sign in the original transaction\nnew_transaction = 'Pay -1,000,000 to Jeff'\nhashed_new_tx=hash.sha1(new_transaction.encode()).hexdigest()\n# update the block with the new tx; recall 'block' is the original or genesis block; our tx was at position 0\nblock[\"transactions\"][0]=hashed_new_tx\n\n# hash the updated block\nimport pickle\nbyte_genesis_new = pickle.dumps(block)\nhash_genesis = hash.sha1(byte_genesis_new).hexdigest()\n\n# compare hashes\nif block2[\"prevHash\"] != hash_genesis:\n    print('Your chain has been attacked!!')",
      "metadata": {
        "colab": {},
        "colab_type": "code",
        "id": "HaTCUakqyWO_",
        "trusted": true
      },
      "execution_count": null,
      "outputs": []
    },
    {
      "cell_type": "markdown",
      "source": "## Summary",
      "metadata": {
        "colab_type": "text",
        "id": "_cLVaNoByWPC"
      }
    },
    {
      "cell_type": "markdown",
      "source": "In this tutorial we have:<br>\n - created a block structure including a list of transactions (data)\n - hashed the transaction and added it to the block\n - hashed the entire block\n - added a new block \n - linked the two blocks with a previous hash field to create a block chain\n \nWhat we have __not__ done is:<br>\n - used a real timestamp\n - use a merkle tree to store the transactions\n - store the merkle root in our block structure\n \nPython libraries that this code depends on:\n - [hashlib](https://docs.python.org/3/library/hashlib.html)\n - [pickle](https://docs.python.org/3/library/pickle.html)\n\nOther resources:\n- [python 3 docs](https://docs.python.org/3/)\n- [Google colab faq](https://research.google.com/colaboratory/faq.html)\n- [Jupyter docs](https://docs.jupyter.org/en/latest/)",
      "metadata": {
        "colab_type": "text",
        "id": "cHM5pIAtyWPC"
      }
    },
    {
      "cell_type": "markdown",
      "source": "## Exercises",
      "metadata": {
        "colab_type": "text",
        "id": "x4sIIT_SyWPD"
      }
    },
    {
      "cell_type": "markdown",
      "source": "1. Create your blocks using a real time stamp. (Is there a difference between this and an indexed method?)\n\n2. Create a merkle root of the transactions from bitcoin block [641818](https://blockchair.com/bitcoin/block/641818) mined on August 2nd, 2020. A \\*.csv file of the 1870 transactions can be downloaded from this [repo](https://github.com/millecodex/COMP726/blob/master/bitcoin_block_641818.csv). In github click **raw** to see unformatted text. Just use the ```hash``` column representing the tx hash; the other data is not stored in the tree.\n",
      "metadata": {
        "colab_type": "text",
        "id": "SbtU8_HZyWPE"
      }
    }
  ]
}