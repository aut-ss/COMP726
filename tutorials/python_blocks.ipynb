{
 "metadata": {
  "celltoolbar": "Raw Cell Format",
  "colab": {
   "collapsed_sections": [],
   "name": "Tutorial_4_block_creation.ipynb",
   "provenance": []
  },
  "kernelspec": {
   "name": "python3",
   "display_name": "Python 3 (ipykernel)",
   "language": "python"
  },
  "language_info": {
   "codemirror_mode": {
    "name": "python",
    "version": 3
   },
   "file_extension": ".py",
   "mimetype": "text/x-python",
   "name": "python",
   "nbconvert_exporter": "python",
   "pygments_lexer": "ipython3",
   "version": "3.8"
  }
 },
 "nbformat_minor": 4,
 "nbformat": 4,
 "cells": [
  {
   "cell_type": "markdown",
   "source": "# Introduction\nThis [Jupyter](https://jupyter.org/) notebook can be run using [colab.research.google.com](https://colab.research.google.com) (see [here](https://colab.research.google.com/notebooks/intro.ipynb) for an intro) or from [jupyter.org/try](https://jupyter.org/try) (select JupyterLab). Alternatively this source file can be downloaded and run locally with [Anaconda](https://docs.anaconda.com/anaconda/navigator/) or directly with Jupyter (Lab|Notebook). Jupyter and Anaconda should be installed in all AUT engineering and computer science labs. I recommend using a web-interface for portability.\n\nThe benefit of using Jupyter is that code snippets can be run live (Python is running in the background).\n\nThe version on Github is static; markdown is rendered but code cannot be executed. All code can be copied and pasted into your favourite text editor or IDE and *should* run with Python 3.x ;)\n\nYou are encouraged to use any programming language you feel comfortable with, this is simply an example using Python (and Jupyter is designed for Python demonstrations).\n\n---",
   "metadata": {
    "colab_type": "text",
    "id": "Wfhas-zQyWOL"
   }
  },
  {
   "cell_type": "markdown",
   "source": "# Tutorial: Create a block from scratch using Python",
   "metadata": {
    "colab_type": "text",
    "id": "3zQ2aU5Q1PUm"
   }
  },
  {
   "cell_type": "markdown",
   "source": "Blocks can contain anything digital. This 'data' is what is written to the blockchain when a new block is added. This data could be prices of stocks, reddit posts, digital signatures, images (not a good idea), or---getting creative---it could even be data from another blockchain.\n\nTo be useful the data will contain many fields such as:<br>\n - identifier\n - timestamp\n - previous hash (to make the chain)\n - merkle root\n - list of transactions (the data of interest)\n \nThese can be stored in a python [dictionary](https://docs.python.org/3/tutorial/datastructures.html?#dictionaries) which is a key-value structure. Think of the key as an index.\n\n```\ndict = {key_1:value_1,\n        key_2:value_2,\n        .\n        .\n        .\n        key_n:value_n   \n}\n```",
   "metadata": {
    "colab_type": "text",
    "id": "WIdigUZhyWOQ"
   }
  },
  {
   "cell_type": "markdown",
   "source": "## Initialize a new block. This one will be the _genesis_ block\nPress ```shift+enter``` to run the individual code cell. Or select the code click the play (run) button from the toolbar. See the ```Kernal``` and ```Run``` menu for all options.\n\nYou may have to wait for the environment to initialize if this is the first time. There is a status bar above.\n\nThe output will appear directly below the code block.",
   "metadata": {
    "colab_type": "text",
    "id": "HFqk1erRyWOQ"
   }
  },
  {
   "cell_type": "code",
   "source": [
    "# initialize a block. Note 'transactions' is initialized as an empty list\n",
    "block = {\n",
    "    'height': 1,\n",
    "    'time': 0,\n",
    "    'prevHash': 'this is the genesis block',\n",
    "    'merkleRoot': '',\n",
    "    'transactions': [],\n",
    "        }\n",
    "print(block)"
   ],
   "metadata": {
    "colab": {},
    "colab_type": "code",
    "id": "16U7fOrqyWOR",
    "trusted": true,
    "ExecuteTime": {
     "end_time": "2025-08-01T04:54:33.539227Z",
     "start_time": "2025-08-01T04:54:33.528651Z"
    }
   },
   "outputs": [
    {
     "name": "stdout",
     "output_type": "stream",
     "text": [
      "{'height': 1, 'time': 0, 'prevHash': 'this is the genesis block', 'merkleRoot': '', 'transactions': []}\n"
     ]
    }
   ],
   "execution_count": 1
  },
  {
   "cell_type": "markdown",
   "source": "## Create a transaction and hash it",
   "metadata": {
    "colab_type": "text",
    "id": "jf3pgPm1yWOV"
   }
  },
  {
   "cell_type": "markdown",
   "source": "Let's create a transaction to store in our blockchain. Remember a transaction is just data; this can be anything represented as a digital object. ",
   "metadata": {
    "colab_type": "text",
    "id": "MLKlkGk-yWOV"
   }
  },
  {
   "cell_type": "code",
   "source": [
    "# create a transaction, in this case a string\n",
    "transaction='Pay $1,000,000 to Jeff'\n",
    "print(transaction)"
   ],
   "metadata": {
    "colab": {},
    "colab_type": "code",
    "id": "pFgbgumjyWOW",
    "trusted": true,
    "ExecuteTime": {
     "end_time": "2025-08-01T04:59:47.972906Z",
     "start_time": "2025-08-01T04:59:47.969430Z"
    }
   },
   "outputs": [
    {
     "name": "stdout",
     "output_type": "stream",
     "text": [
      "Pay $1,000,000 to Jeff\n"
     ]
    }
   ],
   "execution_count": 17
  },
  {
   "cell_type": "markdown",
   "source": "To store the transaction object, we will hash it to create a unique identifier of the information. First we will need access to python's hashing library. Then we will hash the 'transaction' object we created above. In the third line we will output the new hashed value.\n\nThe [hash library](https://docs.python.org/3/library/hashlib.html?#module-hashlib) has access to many standard hash functions. ```SHA-256``` or secure hashing algorithm with a 256 bit output is particularly famous in cryptocurrency.\n",
   "metadata": {
    "colab_type": "text",
    "id": "tXFVFBVbyWOZ"
   }
  },
  {
   "cell_type": "code",
   "source": [
    "# the hash library has many built-in hash functions such as SHA-1 and MD5\n",
    "import hashlib as hash\n",
    "hashed_tx = hash.sha256(transaction)\n",
    "print(hashed_tx)\n"
   ],
   "metadata": {
    "colab": {},
    "colab_type": "code",
    "id": "S9agpOdnyWOL",
    "trusted": true,
    "ExecuteTime": {
     "end_time": "2025-08-01T04:54:40.237381Z",
     "start_time": "2025-08-01T04:54:39.995542Z"
    }
   },
   "outputs": [
    {
     "ename": "TypeError",
     "evalue": "Strings must be encoded before hashing",
     "output_type": "error",
     "traceback": [
      "\u001B[1;31m---------------------------------------------------------------------------\u001B[0m",
      "\u001B[1;31mTypeError\u001B[0m                                 Traceback (most recent call last)",
      "Cell \u001B[1;32mIn[3], line 3\u001B[0m\n\u001B[0;32m      1\u001B[0m \u001B[38;5;66;03m# the hash library has many built-in hash functions such as SHA-1 and MD5\u001B[39;00m\n\u001B[0;32m      2\u001B[0m \u001B[38;5;28;01mimport\u001B[39;00m \u001B[38;5;21;01mhashlib\u001B[39;00m \u001B[38;5;28;01mas\u001B[39;00m \u001B[38;5;21;01mhash\u001B[39;00m\n\u001B[1;32m----> 3\u001B[0m hashed_tx \u001B[38;5;241m=\u001B[39m \u001B[38;5;28;43mhash\u001B[39;49m\u001B[38;5;241;43m.\u001B[39;49m\u001B[43msha256\u001B[49m\u001B[43m(\u001B[49m\u001B[43mtransaction\u001B[49m\u001B[43m)\u001B[49m\n\u001B[0;32m      4\u001B[0m \u001B[38;5;28mprint\u001B[39m(hashed_tx)\n",
      "\u001B[1;31mTypeError\u001B[0m: Strings must be encoded before hashing"
     ]
    }
   ],
   "execution_count": 3
  },
  {
   "cell_type": "markdown",
   "source": "```p\n---------------------------------------------------------------------------\nTypeError                                 Traceback (most recent call last)\n<ipython-input-5-8b54d0eb476f> in <module>()\n      1 # the hash library has many built-in hash functions such as SHA-1 and MD5\n      2 import hashlib as hash\n----> 3 hashed_tx = hash.sha1(transaction)\n      4 print(hashed_tx)\n\nTypeError: Strings must be encoded before hashing\n```",
   "metadata": {
    "colab_type": "text",
    "id": "lmPYjlI-yWOd"
   }
  },
  {
   "cell_type": "markdown",
   "source": "Here we have an **error in line three**, note the green arrow ```----> 3```\n\nThe error message is telling us that we cannot hash a string object such as 'Pay $1,000,000 to Jeff'. (Why not?)\n\nFirst it must be encoded.",
   "metadata": {
    "colab_type": "text",
    "id": "89eMIe1cyWOd"
   }
  },
  {
   "cell_type": "code",
   "source": [
    "encoded_tx = transaction.encode()\n",
    "print(encoded_tx)"
   ],
   "metadata": {
    "colab": {},
    "colab_type": "code",
    "id": "fAiq8PmKyWOe",
    "trusted": true,
    "ExecuteTime": {
     "end_time": "2025-08-01T05:00:04.248824Z",
     "start_time": "2025-08-01T05:00:04.242083Z"
    }
   },
   "outputs": [
    {
     "name": "stdout",
     "output_type": "stream",
     "text": [
      "b'Pay $1,000,000 to Jeff'\n"
     ]
    }
   ],
   "execution_count": 18
  },
  {
   "cell_type": "markdown",
   "source": "Note the output begins with a ```b'``` which is telling us that the string is now a byte object. We can successfully hash a byte object.",
   "metadata": {
    "colab_type": "text",
    "id": "5sY7VAUAyWOi"
   }
  },
  {
   "cell_type": "code",
   "source": [
    "hashed_tx = hash.sha256(encoded_tx)\n",
    "print(hashed_tx)"
   ],
   "metadata": {
    "colab": {},
    "colab_type": "code",
    "id": "dof_EZu3yWOj",
    "trusted": true,
    "ExecuteTime": {
     "end_time": "2025-08-01T05:00:05.496065Z",
     "start_time": "2025-08-01T05:00:05.488448Z"
    }
   },
   "outputs": [
    {
     "name": "stdout",
     "output_type": "stream",
     "text": [
      "<sha256 _hashlib.HASH object @ 0x000001B3E6B85310>\n"
     ]
    }
   ],
   "execution_count": 19
  },
  {
   "cell_type": "markdown",
   "source": [
    "This shows a ```SHA-256``` hash object at the specified memory address. Unfortunately this isn't human-readable and we can't copy and paste it for verification elsewhere. Note that your address is different from your neighbours is different from mine: ```0x7fed...```\n",
    "\n",
    "The `digest()` and `hexdigest()` methods will output byte objects and hex strings respectively. "
   ],
   "metadata": {
    "colab_type": "text",
    "id": "QXm-EmccyWOm"
   }
  },
  {
   "cell_type": "code",
   "source": "print(hashed_tx.digest())\nprint(hashed_tx.hexdigest())",
   "metadata": {
    "colab": {},
    "colab_type": "code",
    "id": "FeWRVBHhyWOn",
    "trusted": true,
    "ExecuteTime": {
     "end_time": "2025-08-01T04:54:52.119996Z",
     "start_time": "2025-08-01T04:54:52.107939Z"
    }
   },
   "outputs": [
    {
     "name": "stdout",
     "output_type": "stream",
     "text": [
      "b'\\x17]\\x8e\\x86\\rg\\x8c\\xfdX\\xceo\\xb9\\xcd\\xcfVV5e^\\x05fR\\xd5L\\xf4\\xf1#\\xd2\\x8aM%2'\n",
      "175d8e860d678cfd58ce6fb9cdcf565635655e056652d54cf4f123d28a4d2532\n"
     ]
    }
   ],
   "execution_count": 6
  },
  {
   "cell_type": "markdown",
   "source": "Which type of object would you rather work with?",
   "metadata": {}
  },
  {
   "cell_type": "markdown",
   "source": "## Add the transaction to the block",
   "metadata": {
    "colab_type": "text",
    "id": "gHM-iUG6yWOs"
   }
  },
  {
   "cell_type": "markdown",
   "source": [
    "We now have a hashed object. This should be unique -- only the specific string ```Pay $1,000,000 to Jeff``` should have the hashed hex output of ```175d8e860d678cfd58ce6fb9cdcf565635655e056652d54cf4f123d28a4d2532```. There also should be no **collisions** meaning that if you create a transaction and hash it you will not get the same output. The last thing to note is that this object is a **fixed length**. So if the data was very long (this whole notebook text file, or a Tolstoy novel) I would still get a 160 bit output (40 hex digits).\n",
    "\n",
    "Lets store this transaction and add it to the ```block``` we created above."
   ],
   "metadata": {
    "colab_type": "text",
    "id": "pL0Ppgwp9E8r"
   }
  },
  {
   "cell_type": "code",
   "source": "hex_tx = hashed_tx.hexdigest()\nblock[\"transactions\"].append(hex_tx)\nprint(block)",
   "metadata": {
    "colab": {},
    "colab_type": "code",
    "id": "otMf3-1FyWOt",
    "trusted": true,
    "ExecuteTime": {
     "end_time": "2025-08-01T05:00:10.533078Z",
     "start_time": "2025-08-01T05:00:10.522237Z"
    }
   },
   "outputs": [
    {
     "name": "stdout",
     "output_type": "stream",
     "text": [
      "{'height': 1, 'time': 1754024102, 'prevHash': 'this is the genesis block', 'merkleRoot': '', 'transactions': ['175d8e860d678cfd58ce6fb9cdcf565635655e056652d54cf4f123d28a4d2532', '175d8e860d678cfd58ce6fb9cdcf565635655e056652d54cf4f123d28a4d2532']}\n"
     ]
    }
   ],
   "execution_count": 20
  },
  {
   "cell_type": "markdown",
   "source": "```transactions``` is an array ```[]``` and we can see the tx output",
   "metadata": {
    "colab_type": "text",
    "id": "UP7OPgeN_KSQ"
   }
  },
  {
   "metadata": {
    "ExecuteTime": {
     "end_time": "2025-08-01T05:00:12.282022Z",
     "start_time": "2025-08-01T05:00:12.269771Z"
    }
   },
   "cell_type": "code",
   "source": [
    "# Function to hash data\n",
    "def hash_data(data):\n",
    "    return hash.sha256(data.encode()).hexdigest()"
   ],
   "outputs": [],
   "execution_count": 21
  },
  {
   "cell_type": "markdown",
   "source": "## Add the current timestamp to a block",
   "metadata": {
    "colab_type": "text",
    "id": "oY5GsSS3yWOv"
   }
  },
  {
   "metadata": {
    "ExecuteTime": {
     "end_time": "2025-08-01T04:55:03.004662Z",
     "start_time": "2025-08-01T04:55:02.997186Z"
    }
   },
   "cell_type": "code",
   "source": [
    "import time\n",
    "timestamp = int(time.time())\n",
    "block['time'] = timestamp\n",
    "print(block)\n"
   ],
   "outputs": [
    {
     "name": "stdout",
     "output_type": "stream",
     "text": [
      "{'height': 1, 'time': 1754024102, 'prevHash': 'this is the genesis block', 'merkleRoot': '', 'transactions': ['175d8e860d678cfd58ce6fb9cdcf565635655e056652d54cf4f123d28a4d2532']}\n"
     ]
    }
   ],
   "execution_count": 9
  },
  {
   "metadata": {},
   "cell_type": "markdown",
   "source": "## Add Merkle root hash to a block"
  },
  {
   "metadata": {},
   "cell_type": "markdown",
   "source": "Note there was only 1 transaction and so this became the ```merkleRoot```. A proper [Merkle root](https://en.wikipedia.org/wiki/Merkle_tree) represents the root of a pairwise transaction tree where every non-leaf node holds the hash of the two child nodes. Merkle trees are very handy and a fundamental part of blockchains."
  },
  {
   "metadata": {
    "ExecuteTime": {
     "end_time": "2025-08-01T05:00:19.097457Z",
     "start_time": "2025-08-01T05:00:19.090498Z"
    }
   },
   "cell_type": "code",
   "source": [
    "# Function to create a Merkle root from a list of transactions\n",
    "def create_merkle_root(trans):\n",
    "    if len(trans) == 0:\n",
    "        return ''\n",
    "    if len(trans) % 2 != 0:\n",
    "        # If the number of transactions is odd, duplicate the last one\n",
    "        trans.append(trans[-1])\n",
    "    \n",
    "    # Hash the individual transactions to form the leaf nodes\n",
    "    leaf_nodes = [hash_data(t) for t in trans]\n",
    "\n",
    "    # Combine pairs of leaf node hashes and hash them again to form the next layer\n",
    "    while len(leaf_nodes) >= 1:\n",
    "        next_layer = []\n",
    "        for i in range(0, len(leaf_nodes), 2):\n",
    "            combined_hash = hash_data(leaf_nodes[i] + leaf_nodes[i + 1])\n",
    "            next_layer.append(combined_hash)\n",
    "        leaf_nodes = next_layer\n",
    "\n",
    "    # The last remaining element is the Merkle root\n",
    "    return leaf_nodes[0]"
   ],
   "outputs": [],
   "execution_count": 23
  },
  {
   "metadata": {
    "ExecuteTime": {
     "end_time": "2025-08-01T05:00:23.312220Z",
     "start_time": "2025-08-01T05:00:23.288783Z"
    }
   },
   "cell_type": "code",
   "source": [
    "merkle_root = create_merkle_root(transaction)\n",
    "print(merkle_root)\n",
    "block[\"merkleRoot\"] = merkle_root\n",
    "print(block)"
   ],
   "outputs": [
    {
     "ename": "IndexError",
     "evalue": "list index out of range",
     "output_type": "error",
     "traceback": [
      "\u001B[1;31m---------------------------------------------------------------------------\u001B[0m",
      "\u001B[1;31mIndexError\u001B[0m                                Traceback (most recent call last)",
      "Cell \u001B[1;32mIn[25], line 1\u001B[0m\n\u001B[1;32m----> 1\u001B[0m merkle_root \u001B[38;5;241m=\u001B[39m \u001B[43mcreate_merkle_root\u001B[49m\u001B[43m(\u001B[49m\u001B[43mtransaction\u001B[49m\u001B[43m)\u001B[49m\n\u001B[0;32m      2\u001B[0m \u001B[38;5;28mprint\u001B[39m(merkle_root)\n\u001B[0;32m      3\u001B[0m block[\u001B[38;5;124m\"\u001B[39m\u001B[38;5;124mmerkleRoot\u001B[39m\u001B[38;5;124m\"\u001B[39m] \u001B[38;5;241m=\u001B[39m merkle_root\n",
      "Cell \u001B[1;32mIn[23], line 16\u001B[0m, in \u001B[0;36mcreate_merkle_root\u001B[1;34m(trans)\u001B[0m\n\u001B[0;32m     14\u001B[0m next_layer \u001B[38;5;241m=\u001B[39m []\n\u001B[0;32m     15\u001B[0m \u001B[38;5;28;01mfor\u001B[39;00m i \u001B[38;5;129;01min\u001B[39;00m \u001B[38;5;28mrange\u001B[39m(\u001B[38;5;241m0\u001B[39m, \u001B[38;5;28mlen\u001B[39m(leaf_nodes), \u001B[38;5;241m2\u001B[39m):\n\u001B[1;32m---> 16\u001B[0m     combined_hash \u001B[38;5;241m=\u001B[39m hash_data(leaf_nodes[i] \u001B[38;5;241m+\u001B[39m \u001B[43mleaf_nodes\u001B[49m\u001B[43m[\u001B[49m\u001B[43mi\u001B[49m\u001B[43m \u001B[49m\u001B[38;5;241;43m+\u001B[39;49m\u001B[43m \u001B[49m\u001B[38;5;241;43m1\u001B[39;49m\u001B[43m]\u001B[49m)\n\u001B[0;32m     17\u001B[0m     next_layer\u001B[38;5;241m.\u001B[39mappend(combined_hash)\n\u001B[0;32m     18\u001B[0m leaf_nodes \u001B[38;5;241m=\u001B[39m next_layer\n",
      "\u001B[1;31mIndexError\u001B[0m: list index out of range"
     ]
    }
   ],
   "execution_count": 25
  },
  {
   "metadata": {},
   "cell_type": "markdown",
   "source": "## Create a new block and append it to the chain"
  },
  {
   "cell_type": "markdown",
   "source": [
    "This block only has a single transaction (perhaps its the block reward to Jeff ;) Now we will create a new block and append it to the chain. The block is created in the same manner, except we must make a few updates:\n",
    "\n",
    "1.   the blockheight is now incremented by 1\n",
    "2.   the `prevHash` field gets the hash of the genesis block. This will ensure the state of the blockchain is preserved moving forward."
   ],
   "metadata": {
    "colab_type": "text",
    "id": "MXR0YtgKyWOw"
   }
  },
  {
   "cell_type": "code",
   "source": [
    "# some attributes have been hard-coded for simplicity\n",
    "block2 = {\n",
    "    'height': 2,\n",
    "    'time': 0,\n",
    "    'prevHash': '',\n",
    "    'merkleRoot': '',\n",
    "    'transactions': [],\n",
    "        }\n",
    "# create a transaction and add it to the block\n",
    "tx = hash.sha1('Alice +10'.encode()).hexdigest()\n",
    "block2[\"transactions\"].append(tx)\n",
    "block2[\"merkleRoot\"] = tx\n",
    "print(block2)"
   ],
   "metadata": {
    "colab": {},
    "colab_type": "code",
    "id": "pu0ZODdAyWOx",
    "trusted": true,
    "ExecuteTime": {
     "end_time": "2025-08-01T04:57:29.764445Z",
     "start_time": "2025-08-01T04:57:29.749942Z"
    }
   },
   "outputs": [
    {
     "name": "stdout",
     "output_type": "stream",
     "text": [
      "{'height': 2, 'time': 0, 'prevHash': '', 'merkleRoot': '9726fd28f4baeeef320445819ce41b02ca756e19', 'transactions': ['9726fd28f4baeeef320445819ce41b02ca756e19']}\n"
     ]
    }
   ],
   "execution_count": 14
  },
  {
   "cell_type": "markdown",
   "source": "If there are more than one transaction in the list, such that,",
   "metadata": {
    "colab_type": "text",
    "id": "qbjP0i2AyWO0"
   }
  },
  {
   "metadata": {
    "ExecuteTime": {
     "end_time": "2025-08-01T04:57:20.414614Z",
     "start_time": "2025-08-01T04:57:20.408043Z"
    }
   },
   "cell_type": "code",
   "source": [
    "transactions = [\n",
    "    \"Pay $1,000,000 to Mike\",\n",
    "    \"Pay $500,000 to Nate\",\n",
    "    \"Pay $200,000 to Charlie\",\n",
    "    \"Pay $300,000 to Edna\"\n",
    "]"
   ],
   "outputs": [],
   "execution_count": 12
  },
  {
   "metadata": {
    "ExecuteTime": {
     "end_time": "2025-08-01T04:57:33.491800Z",
     "start_time": "2025-08-01T04:57:33.483854Z"
    }
   },
   "cell_type": "code",
   "source": [
    "merkle_root = create_merkle_root(transactions)\n",
    "print(merkle_root)\n",
    "\n",
    "# add transactions to the block\n",
    "for j in transactions:\n",
    "    block2[\"transactions\"].append(hash_data(j))\n",
    "block2[\"merkleRoot\"] = merkle_root\n",
    "print(block2)"
   ],
   "outputs": [
    {
     "name": "stdout",
     "output_type": "stream",
     "text": [
      "b5867694af47ea08e25c71808594a2fe1d64485a840a50b8fa078c09a377a01a\n",
      "{'height': 2, 'time': 0, 'prevHash': '', 'merkleRoot': 'b5867694af47ea08e25c71808594a2fe1d64485a840a50b8fa078c09a377a01a', 'transactions': ['9726fd28f4baeeef320445819ce41b02ca756e19', '4aab7c52959ebf64d9b44b120883237d630991bd2f3377bcab36a3626517d0a0', '342ee31a3f3476e53f128f8de3bfb7dece4c6f5849f8cd5fcdddee24ce8eaaba', 'fda8e90c916c412bdfd4a1e8a2ea4e8b19ac890af288c64073f719f79c607d89', '94a384692fd1a10e67bf50c2647dd2e2df602acc7cfd05169f35de77ffe599e8']}\n"
     ]
    }
   ],
   "execution_count": 15
  },
  {
   "metadata": {},
   "cell_type": "markdown",
   "source": "The only thing left is to link the blocks. For this we need to hash the entire genesis block object. Proceeding as before:"
  },
  {
   "cell_type": "code",
   "source": "hash_block_1 = hash.sha256(block.encode())",
   "metadata": {
    "colab": {},
    "colab_type": "code",
    "id": "cjsmPF4jyWO1",
    "trusted": true,
    "ExecuteTime": {
     "end_time": "2024-07-24T11:17:26.659482Z",
     "start_time": "2024-07-24T11:17:26.636424Z"
    }
   },
   "outputs": [
    {
     "ename": "AttributeError",
     "evalue": "'dict' object has no attribute 'encode'",
     "output_type": "error",
     "traceback": [
      "\u001B[1;31m---------------------------------------------------------------------------\u001B[0m",
      "\u001B[1;31mAttributeError\u001B[0m                            Traceback (most recent call last)",
      "Cell \u001B[1;32mIn[94], line 1\u001B[0m\n\u001B[1;32m----> 1\u001B[0m hash_block_1 \u001B[38;5;241m=\u001B[39m \u001B[38;5;28mhash\u001B[39m\u001B[38;5;241m.\u001B[39msha256(\u001B[43mblock\u001B[49m\u001B[38;5;241;43m.\u001B[39;49m\u001B[43mencode\u001B[49m())\n",
      "\u001B[1;31mAttributeError\u001B[0m: 'dict' object has no attribute 'encode'"
     ]
    }
   ],
   "execution_count": 94
  },
  {
   "cell_type": "markdown",
   "source": "Another **error**! This is a uniquely python error. We need to convert the block (dictionary) into a byte object. To do this we need to use the `pickle` functionality that is built in. You may know this as serialization. Once pickled, we can hash and store as a hex digest.",
   "metadata": {
    "colab_type": "text",
    "id": "tpVtJG4UyWO3"
   }
  },
  {
   "cell_type": "code",
   "source": [
    "import pickle\n",
    "# convert to a byte object\n",
    "byte_genesis = pickle.dumps(block)\n",
    "print(byte_genesis)\n",
    "\n",
    "# compress to a human-readable SHA-1 digest\n",
    "hash_genesis = hash.sha256(byte_genesis).hexdigest()\n",
    "print('\\n')\n",
    "print(hash_genesis)"
   ],
   "metadata": {
    "colab": {},
    "colab_type": "code",
    "id": "iPkAyd9pyWO4",
    "trusted": true,
    "ExecuteTime": {
     "end_time": "2024-07-24T11:17:40.709188Z",
     "start_time": "2024-07-24T11:17:40.701102Z"
    }
   },
   "outputs": [
    {
     "name": "stdout",
     "output_type": "stream",
     "text": [
      "b'\\x80\\x04\\x95\\xd0\\x00\\x00\\x00\\x00\\x00\\x00\\x00}\\x94(\\x8c\\x06height\\x94K\\x01\\x8c\\x04time\\x94Ju\\xe2\\xa0f\\x8c\\x08prevHash\\x94\\x8c\\x19this is the genesis block\\x94\\x8c\\nmerkleRoot\\x94\\x8c@b5867694af47ea08e25c71808594a2fe1d64485a840a50b8fa078c09a377a01a\\x94\\x8c\\x0ctransactions\\x94]\\x94\\x8c(ec07e8ede0e48a7bc29e41a9f1dfe874739183db\\x94au.'\n",
      "\n",
      "\n",
      "3a27b28c18e7cdebb1c3dea45fd967d36504e44669c412742edea9a8511f67cc\n"
     ]
    }
   ],
   "execution_count": 95
  },
  {
   "cell_type": "markdown",
   "source": "Earlier we said hashing has the benefit of being fixed length. Here you can see the ```byte_genesis``` output is much longer than our previous byte outputs while `hash_genesis` remains short. \n\nSet the ```prevHash``` pointer in ```block2``` to the hash of the genesis block.",
   "metadata": {
    "colab_type": "text",
    "id": "ABJpVi2PyWO6"
   }
  },
  {
   "cell_type": "code",
   "source": [
    "# set the prevHash and print the block\n",
    "block2[\"prevHash\"] = hash_genesis\n",
    "block2[\"time\"] = int(time.time())\n",
    "for key, value in block2.items():\n",
    "    print(key+': '+str(value)) "
   ],
   "metadata": {
    "colab": {},
    "colab_type": "code",
    "id": "k_OcfNM_yWO7",
    "trusted": true,
    "ExecuteTime": {
     "end_time": "2024-07-25T23:10:09.386463Z",
     "start_time": "2024-07-25T23:10:09.376482Z"
    }
   },
   "outputs": [
    {
     "name": "stdout",
     "output_type": "stream",
     "text": [
      "height: 2\n",
      "time: 1721949009\n",
      "prevHash: 85ad1310fc8a476c999a7dad503f69e4a7840c7e\n",
      "merkleRoot: b5867694af47ea08e25c71808594a2fe1d64485a840a50b8fa078c09a377a01a\n",
      "transactions: ['9726fd28f4baeeef320445819ce41b02ca756e19', '4aab7c52959ebf64d9b44b120883237d630991bd2f3377bcab36a3626517d0a0', '342ee31a3f3476e53f128f8de3bfb7dece4c6f5849f8cd5fcdddee24ce8eaaba', 'fda8e90c916c412bdfd4a1e8a2ea4e8b19ac890af288c64073f719f79c607d89', '94a384692fd1a10e67bf50c2647dd2e2df602acc7cfd05169f35de77ffe599e8']\n"
     ]
    }
   ],
   "execution_count": 129
  },
  {
   "cell_type": "markdown",
   "source": "### That's the main concept of creating a blockchain! (datastructure)\n\nAs noted above, the consensus mechanism is a whole other part, but this (hopefully) shows that coding a blockchain is not that intense.",
   "metadata": {
    "colab_type": "text",
    "id": "vQyp-kulDy2q"
   }
  },
  {
   "cell_type": "markdown",
   "source": "# Modify a transaction to attack the chain",
   "metadata": {
    "colab_type": "text",
    "id": "W7xSFhzmyWO-"
   }
  },
  {
   "cell_type": "markdown",
   "source": "A hash produces randomized output without any discernable pattern relating to the original data. Lets test this by modifying the transaction in the genesis block, rehashing, and comparing to the `prevHash` pointer in block2.\n\nChanging a single transaction modifies the Merkle root which modifies the block hash and will invalidate the entire chain from that point in history forward.\n",
   "metadata": {
    "colab_type": "text",
    "id": "wdR0HvCFyWO_"
   }
  },
  {
   "cell_type": "code",
   "source": "# change the dollar sign to a negative sign in the original transaction\nnew_transaction = 'Pay -1,000,000 to Jeff'\nhashed_new_tx=hash.sha1(new_transaction.encode()).hexdigest()\n# update the block with the new tx; recall 'block' is the original or genesis block; our tx was at position 0\nblock[\"transactions\"][0]=hashed_new_tx\n\n# hash the updated block\nimport pickle\nbyte_genesis_new = pickle.dumps(block)\nhash_genesis = hash.sha1(byte_genesis_new).hexdigest()\n\n# compare hashes\nif block2[\"prevHash\"] != hash_genesis:\n    print('Your chain has been attacked!!')",
   "metadata": {
    "colab": {},
    "colab_type": "code",
    "id": "HaTCUakqyWO_",
    "trusted": true,
    "ExecuteTime": {
     "end_time": "2024-07-25T22:40:31.642850Z",
     "start_time": "2024-07-25T22:40:31.598612Z"
    }
   },
   "outputs": [
    {
     "name": "stdout",
     "output_type": "stream",
     "text": [
      "Your chain has been attacked!!\n"
     ]
    }
   ],
   "execution_count": 115
  },
  {
   "cell_type": "markdown",
   "source": "## Summary",
   "metadata": {
    "colab_type": "text",
    "id": "_cLVaNoByWPC"
   }
  },
  {
   "cell_type": "markdown",
   "source": "In this tutorial we have:<br>\n - created a block structure including a list of transactions (data)\n - hashed the transaction and added it to the block\n - hashed the entire block\n - added a new block \n - linked the two blocks with a previous hash field to create a block chain\n \nWhat we have __not__ done is:<br>\n - used a real timestamp\n - use a merkle tree to store the transactions\n - store the merkle root in our block structure\n \nPython libraries that this code depends on:\n - [hashlib](https://docs.python.org/3/library/hashlib.html)\n - [pickle](https://docs.python.org/3/library/pickle.html)\n\nOther resources:\n- [python 3 docs](https://docs.python.org/3/)\n- [Google colab faq](https://research.google.com/colaboratory/faq.html)\n- [Jupyter docs](https://docs.jupyter.org/en/latest/)",
   "metadata": {
    "colab_type": "text",
    "id": "cHM5pIAtyWPC"
   }
  },
  {
   "cell_type": "markdown",
   "source": "## Exercises\n1. Create your blocks using a real time stamp. Is there a difference between this and an indexed method like block height?\n2. Automate your block production to run continually. How do you decide the time between blocks? Comment on the factors that influence blocktime.\n3. Create a merkle root of the transactions from bitcoin block [641818](https://blockchair.com/bitcoin/block/641818) mined on August 2nd, 2020. A \\*.csv file of the 1870 transactions can be downloaded from this [repo](https://github.com/millecodex/COMP726/blob/master/bitcoin_block_641818.csv). In github click **raw** to see unformatted text. Just use the ```hash``` column representing the tx hash; the other data is not stored in the tree.\n4. Write a script to calculate the total number of bitcoin that will be mined. Start with a block reward of 50 at height 1, and implement the halving every 210,000 blocks. The total number is just under 21 million, why not exactly 21 million? Produce a plot of supply and block production.\n#### Submission\nSubmission is via Canvas. Prepare typed solutions, include any code with output, and plots and references that are required.",
   "metadata": {
    "colab_type": "text",
    "id": "x4sIIT_SyWPD"
   }
  }
 ]
}
