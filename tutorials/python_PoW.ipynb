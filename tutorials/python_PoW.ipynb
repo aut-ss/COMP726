{
 "metadata": {
  "celltoolbar": "Raw Cell Format",
  "colab": {
   "collapsed_sections": [],
   "name": "Tutorial_5_PoW.ipynb",
   "provenance": [],
   "toc_visible": true
  },
  "kernelspec": {
   "name": "python3",
   "display_name": "Python 3 (ipykernel)",
   "language": "python"
  },
  "language_info": {
   "codemirror_mode": {
    "name": "python",
    "version": 3
   },
   "file_extension": ".py",
   "mimetype": "text/x-python",
   "name": "python",
   "nbconvert_exporter": "python",
   "pygments_lexer": "ipython3",
   "version": "3.8"
  }
 },
 "nbformat_minor": 4,
 "nbformat": 4,
 "cells": [
  {
   "cell_type": "markdown",
   "source": "# Introduction\nThis [Jupyter](https://jupyter.org/) notebook can be run using [colab.research.google.com](https://colab.research.google.com) (see [here](https://colab.research.google.com/notebooks/intro.ipynb) for an intro) or from [jupyter.org/try](https://jupyter.org/try) (select JupyterLab). Alternatively this source file can be downloaded and run locally with [Anaconda](https://docs.anaconda.com/anaconda/navigator/) or directly with Jupyter (Lab|Notebook). Jupyter and Anaconda should be installed in all AUT engineering and computer science labs. I recommend using a web-interface for portability.\n\nThe benefit of using Jupyter is that code snippets can be run live (Python is running in the background).\n\nThe version on Github is static; markdown is rendered but code cannot be executed. All code can be copied and pasted into your favourite text editor or IDE and *should* run with Python 3.x ;)\n\nYou are encouraged to use any programming language you feel comfortable with, this is simply an example using Python (and Jupyter is designed for Python demonstrations).\n\n---",
   "metadata": {
    "colab_type": "text",
    "id": "-1F_WkaPU92j"
   }
  },
  {
   "cell_type": "markdown",
   "source": "# Tutorial: Proof of Work - Mining ",
   "metadata": {
    "colab_type": "text",
    "id": "TKJO15meU92h"
   }
  },
  {
   "cell_type": "markdown",
   "source": "**_Proof of work_** is the unique contribution to the Bitcoin protocol that achieves two aims:\n1. Allows nodes to verify transactions to achieve consensus. In Bitcoin the longest chain is a representation of the most cumulative proof of computational effort expended to date, and the longest chain is the canonical one. A proof of work verification scheme should be reasonably difficult to compute but easy to verfiy. It is difficult to find a hash (as we will see) but comparatively trivial to validate.\n2. Keeps the network secure by aligning incentives. This means it is more profitable to play by the rules than attempt to subvert the network. To earn the block reward your computational effort has to be verified by the network and in a race-condition wasted hashes or time represent lost opportunity cost.\n\nWe have seen in the previous tutorials some of the uses of hashing with the `hashlib` library. Because a standard hash function like `sha256` is random, meaning there is no way to game the system or shortcut the output, it allows equal participation from anyone in the network. If one participant chooses to dedicate all of their computers and resources to hashing, then they are allowed more \"votes\" in the network and will receive proportionally more rewards for their effort.\n\nThis whole process is referred to as _mining_ because it is analagous to gold mining.\n\nSo lets get mining!",
   "metadata": {
    "colab_type": "text",
    "id": "VeDAzJ7HU92k"
   }
  },
  {
   "cell_type": "markdown",
   "source": "### Prepare a block to be mined\nPress `shift-enter` in the cell to run it. You may have to wait for the environment to initialize if this is the first time. There is a status bar above.\n\nThe output will appear directly below the code block.",
   "metadata": {
    "colab_type": "text",
    "id": "irwHMEkuU92k"
   }
  },
  {
   "cell_type": "code",
   "source": "# we will need pickle to turn our block into a byte object\n# sha256 operates one byte at a time\nimport hashlib\nimport pickle\n\n# create a new block using sample values\nblock = {   'timestamp': 1553200425.597771,\n            'transactions': ['a','b','c'],\n            'prev_hash': '00574faf29dbb37a3b12c2f8f5c05cf03c708313d4ad1d5d968cd2438beea104',\n            'merkle_root': 'aa0522a507b6499cb3512494908ac9220',\n        }\n\n# pickle the block\npickled_block = pickle.dumps(block)\nprint(pickled_block)",
   "metadata": {
    "colab": {},
    "colab_type": "code",
    "id": "sl6HqyRQU92l",
    "trusted": true,
    "ExecuteTime": {
     "end_time": "2024-08-14T04:41:01.118074Z",
     "start_time": "2024-08-14T04:41:01.106805Z"
    }
   },
   "outputs": [
    {
     "name": "stdout",
     "output_type": "stream",
     "text": [
      "b'\\x80\\x04\\x95\\xba\\x00\\x00\\x00\\x00\\x00\\x00\\x00}\\x94(\\x8c\\ttimestamp\\x94GA\\xd7$\\xfdJfA\\xe1\\x8c\\x0ctransactions\\x94]\\x94(\\x8c\\x01a\\x94\\x8c\\x01b\\x94\\x8c\\x01c\\x94e\\x8c\\tprev_hash\\x94\\x8c@00574faf29dbb37a3b12c2f8f5c05cf03c708313d4ad1d5d968cd2438beea104\\x94\\x8c\\x0bmerkle_root\\x94\\x8c!aa0522a507b6499cb3512494908ac9220\\x94u.'\n"
     ]
    }
   ],
   "execution_count": 1
  },
  {
   "cell_type": "markdown",
   "source": "This block is in byte form (the `'b`) and can now be hashed. Lets see what it looks like.",
   "metadata": {
    "colab_type": "text",
    "id": "tqWmDuOhU92q"
   }
  },
  {
   "cell_type": "code",
   "source": "# hash the block and output a digest of hexidecimal digits\nhashed_block = hashlib.sha256(pickled_block).hexdigest()\nprint(hashed_block)",
   "metadata": {
    "colab": {},
    "colab_type": "code",
    "id": "MJW9gk-RU92q",
    "trusted": true,
    "ExecuteTime": {
     "end_time": "2024-08-14T05:44:05.407962Z",
     "start_time": "2024-08-14T05:44:05.381883Z"
    }
   },
   "outputs": [
    {
     "name": "stdout",
     "output_type": "stream",
     "text": [
      "533f71d73de65feec417737ce40b8cbf7cfe150c81d5703fb28cf07cef0618f1\n"
     ]
    }
   ],
   "execution_count": 2
  },
  {
   "cell_type": "markdown",
   "source": "Every time we hash this same block with sha256 we will get the same unique output. In this case repeated hashing will not change the output. (Why is this important?)\n\nLets introduce a variable that is added to the block. This variable doesn't change the data in the block, but allows for a different hash output. It is a **number** we will use **once**, then hash, test, update, and hash again. This is called a **nonce**.\n\nThis simple example shows how a nonce changes the hash:",
   "metadata": {
    "colab_type": "text",
    "id": "uMvKlzetU92t"
   }
  },
  {
   "cell_type": "code",
   "source": "# choose 16 because a hex output has 16 digits\nfor nonce in range(16):\n    print(str(nonce)+'_block_nonce')",
   "metadata": {
    "colab": {},
    "colab_type": "code",
    "id": "rkjQ5uNRU92t",
    "trusted": true,
    "ExecuteTime": {
     "end_time": "2024-08-14T05:45:33.937569Z",
     "start_time": "2024-08-14T05:45:33.923380Z"
    }
   },
   "outputs": [
    {
     "name": "stdout",
     "output_type": "stream",
     "text": [
      "0_block_nonce\n",
      "1_block_nonce\n",
      "2_block_nonce\n",
      "3_block_nonce\n",
      "4_block_nonce\n",
      "5_block_nonce\n",
      "6_block_nonce\n",
      "7_block_nonce\n",
      "8_block_nonce\n",
      "9_block_nonce\n",
      "10_block_nonce\n",
      "11_block_nonce\n",
      "12_block_nonce\n",
      "13_block_nonce\n",
      "14_block_nonce\n",
      "15_block_nonce\n"
     ]
    }
   ],
   "execution_count": 3
  },
  {
   "cell_type": "markdown",
   "source": "Now output the hash of the above strings:",
   "metadata": {
    "colab_type": "text",
    "id": "9HkGEyGrU92w"
   }
  },
  {
   "cell_type": "code",
   "source": "for nonce in range(16):  \n    print(hashlib.sha256((str(nonce)+'block_nonce').encode()).hexdigest())",
   "metadata": {
    "colab": {},
    "colab_type": "code",
    "id": "IdGstJILU92w",
    "trusted": true,
    "ExecuteTime": {
     "end_time": "2024-08-14T05:47:49.916520Z",
     "start_time": "2024-08-14T05:47:49.897162Z"
    }
   },
   "outputs": [
    {
     "name": "stdout",
     "output_type": "stream",
     "text": [
      "3dd1f24bf0a4e624a2cb40919297bf1b7d7c5e48b3ca395c6e61ee2ad8f51637\n",
      "2732ba4727c3a2b9b0244654affb31545168a504193a85ec86e63c37b1752190\n",
      "22be81a20ce2c6de24d1e95d223290f5cc87c866c02a92f70b0a49c0ec337215\n",
      "4faa8101f2776b329ae6da3c973b6e74a54e963a110d92f53d7b20a82c38fddc\n",
      "3e557abe5079371b8eff947c1a5c69982a69c7e2e486d89cd3b979352ac0ee8a\n",
      "422f4b4bc2e211b4964a79e25c2f23b14dab189693ae9ced01068159857a7c9c\n",
      "3843b8dc09f93eb2e3b39654486d80ee0f6d3b2cd573554a7ab9ff3397c5b6ed\n",
      "22ea30afd6c105358926b5f7d72ca6944aaee7c9865d1d50653c5c0159763db9\n",
      "b5e24d04ae74a1fc754882215e22ceb40a4257910a7fc17b81ae5689f0f8d92e\n",
      "a287c7cacb668082e4a2eebbb74c65e01019fc8c9e1c43a87f8601de189026fd\n",
      "b50e1115525a09d3c5ed5015c369b1f3278d5a3289de28c99104b7e9de1d7110\n",
      "091c41e1694a6cf7da4a3b5df8e9656cec6f118ddb19fa733849270d3d084e8d\n",
      "76793ad61014322d0bc5d25ff5b60d2f136d7e63cc367032224ee356920c8c19\n",
      "843f1603f6b8e455ac429bb3d7d298ccb5e68f3c4dec5b7211ae717c721e8e2d\n",
      "a858f37660f2466f26b167b36017509ccf6a586dc6b354d5c362a32302350e7c\n",
      "82cba63d49f0f1db07006a83314c9489b8359dc74a52bae256a71946634afd64\n"
     ]
    }
   ],
   "execution_count": 4
  },
  {
   "cell_type": "markdown",
   "source": "There should be no pattern to the hashed values above. All that was changed was the nonce. Since a hexidecial number has 16 possible digits (0-9,a-f), there should be a one-sixteenth probability that the first digit of the digest is a `0`. (How many are above?)\n\nWhat is the probability that the first *two* digits are: `00`? \n\n$P($ `00` $)=\\left(\\frac{1}{16}\\right)\\left(\\frac{1}{16}\\right)=\\frac{1}{16^2}=\\frac{1}{256}=0.3906\\%$\n\nSo the probability the first $n$ digits are `0` is:\n\n$P($ `0` $^n)=\\frac{1}{16^n}$\n\nAs the number of zeroes increase, the probability of finding a hash with those leading zeroes goes down. If we are looking for a hash with `00` at the beginning this is called the _target difficulty_. Mining a successful block means finding a hash that is below the target value. One way to do this is to take the hash string and compare the first digit(s).",
   "metadata": {
    "colab_type": "text",
    "id": "xa2n23LSU920"
   }
  },
  {
   "cell_type": "code",
   "source": [
    "# set the number of leading zeroes\n",
    "target = 1\n",
    "\n",
    "# loop through the hashes checking each one\n",
    "for nonce in range(16):  \n",
    "    hash = hashlib.sha256((str(nonce)+'block_nonce').encode()).hexdigest()\n",
    "    print(str(hash))\n",
    "    \n",
    "    # check the string up to the indexed difficulty and compare\n",
    "    # note python string manipulation: '0'*5 = 00000; this is string multiplication\n",
    "    if hash[:target] == '0'*target:\n",
    "        print('Block Found!')\n",
    "        break\n",
    "        \n",
    "    # end of range condition\n",
    "    if nonce == 15: print('Block not found')\n",
    "    "
   ],
   "metadata": {
    "colab": {},
    "colab_type": "code",
    "id": "iqG65E_zU921",
    "trusted": true,
    "ExecuteTime": {
     "end_time": "2024-08-15T08:05:19.396444Z",
     "start_time": "2024-08-15T08:05:19.390063Z"
    }
   },
   "outputs": [
    {
     "name": "stdout",
     "output_type": "stream",
     "text": [
      "3dd1f24bf0a4e624a2cb40919297bf1b7d7c5e48b3ca395c6e61ee2ad8f51637\n",
      "2732ba4727c3a2b9b0244654affb31545168a504193a85ec86e63c37b1752190\n",
      "22be81a20ce2c6de24d1e95d223290f5cc87c866c02a92f70b0a49c0ec337215\n",
      "4faa8101f2776b329ae6da3c973b6e74a54e963a110d92f53d7b20a82c38fddc\n",
      "3e557abe5079371b8eff947c1a5c69982a69c7e2e486d89cd3b979352ac0ee8a\n",
      "422f4b4bc2e211b4964a79e25c2f23b14dab189693ae9ced01068159857a7c9c\n",
      "3843b8dc09f93eb2e3b39654486d80ee0f6d3b2cd573554a7ab9ff3397c5b6ed\n",
      "22ea30afd6c105358926b5f7d72ca6944aaee7c9865d1d50653c5c0159763db9\n",
      "b5e24d04ae74a1fc754882215e22ceb40a4257910a7fc17b81ae5689f0f8d92e\n",
      "a287c7cacb668082e4a2eebbb74c65e01019fc8c9e1c43a87f8601de189026fd\n",
      "b50e1115525a09d3c5ed5015c369b1f3278d5a3289de28c99104b7e9de1d7110\n",
      "091c41e1694a6cf7da4a3b5df8e9656cec6f118ddb19fa733849270d3d084e8d\n",
      "Block Found!\n"
     ]
    }
   ],
   "execution_count": 15
  },
  {
   "cell_type": "markdown",
   "source": "Our loop breaks after 12 iterations because we've satisfied the condition; in this case finding a single leading zero.\n\n***\n\nUp to this point we have just been hashing a string `'_block_nonce'`. Lets now use our block.",
   "metadata": {
    "colab_type": "text",
    "id": "FU5O6Pw9U924"
   }
  },
  {
   "cell_type": "code",
   "source": [
    "# !!caution!! - setting difficulty too high could result in waiting until the heat death of the universe to find your block\n",
    "target = 4 # powers of sixteen\n",
    "nonce = 1\n",
    "block_found = False\n",
    "\n",
    "# this will loop until a block is found\n",
    "while block_found == False:\n",
    "    # add a nonce value to the block, here it is prepended\n",
    "    work = hashlib.sha256(bytes(nonce) + pickled_block)\n",
    "    \n",
    "    # check to see if the hash meets the target\n",
    "    if work.hexdigest()[:target] == '0'*target:\n",
    "        block_found = True\n",
    "        \n",
    "        # output some data\n",
    "        print('Target Difficulty: ' + str(target))\n",
    "        print('Nonce: ' + str(nonce))\n",
    "        print('Proof-of-work: ' + work.hexdigest())\n",
    "        \n",
    "    # update the nonce before looping\n",
    "    # this ensures the block is different before it is hashed again    \n",
    "    nonce += 1\n",
    "\n",
    "# Change the difficulty value and compare output (and time)\n",
    "# you may have to wait 10-20 seconds for output to appear below. "
   ],
   "metadata": {
    "colab": {},
    "colab_type": "code",
    "id": "oa_3Aj3BU924",
    "trusted": true,
    "ExecuteTime": {
     "end_time": "2024-08-15T08:14:24.682924Z",
     "start_time": "2024-08-15T08:14:23.295527Z"
    }
   },
   "outputs": [
    {
     "name": "stdout",
     "output_type": "stream",
     "text": [
      "Target Difficulty: 4\n",
      "Nonce: 67220\n",
      "Proof-of-work: 00003927c8d89164725943089548e9f743623463c2e4fca55e32ba202b46ea45\n"
     ]
    }
   ],
   "execution_count": 18
  },
  {
   "cell_type": "markdown",
   "source": "The nonce indicates how many times the loop was run which is how many `SHA-256` hashes were calculated. When you hear people say that bitcoin mining involves \"solving complex puzzles\" this is what they are referring to. Sidebar: these **aren't puzzles at all!** It is simply an algorithm to manipulate bits and compare to a target condition.\n\n```python\nTarget Difficulty: 4\nNonce: 102591\nProof-of-work: 0000ee2830b3999eec469cc16a81f0eb6a163e84ece694803adaf3392b74804b\n```\n\nAbove I set the difficulty to 4 and can see that the hash was calculated 102,591 times before meeting the condition.",
   "metadata": {
    "colab_type": "text",
    "id": "KOvFdRab8fWS"
   }
  },
  {
   "cell_type": "markdown",
   "source": "### Add a system timer for analysis",
   "metadata": {
    "colab_type": "text",
    "id": "Ryrfese_U927"
   }
  },
  {
   "cell_type": "markdown",
   "source": "Change the difficulty value above and compare the different outputs. Adding a timer can help with the comparison.",
   "metadata": {
    "colab_type": "text",
    "id": "tcRh99qlU928"
   }
  },
  {
   "cell_type": "code",
   "source": "target = 4\nnonce = 1\nblock_found = False\n\n# access the system clock and record the start time\nimport time\nstart = time.time()\nwhile block_found == False:\n    work = hashlib.sha256(bytes(nonce) + pickled_block)\n    if work.hexdigest()[:target] == '0'*target:\n        end = time.time()\n        block_found = True\n        print('Target Difficulty: ' + str(target))\n        print('Nonce: ' + str(nonce))\n        print('Proof-of-work: ' + work.hexdigest())\n        \n        # calculate and print the time; this will output in seconds\n        print('Elapsed time: ' + str(end - start))\n    nonce += 1",
   "metadata": {
    "colab": {},
    "colab_type": "code",
    "id": "W9zlRJdOU928",
    "trusted": true,
    "ExecuteTime": {
     "end_time": "2024-08-15T11:25:43.425982Z",
     "start_time": "2024-08-15T11:25:41.901120Z"
    }
   },
   "outputs": [
    {
     "name": "stdout",
     "output_type": "stream",
     "text": [
      "Target Difficulty: 4\n",
      "Nonce: 67220\n",
      "Proof-of-work: 00003927c8d89164725943089548e9f743623463c2e4fca55e32ba202b46ea45\n",
      "Elapsed time: 1.5226671695709229\n"
     ]
    }
   ],
   "execution_count": 168
  },
  {
   "cell_type": "markdown",
   "source": "### Generate random blocks",
   "metadata": {
    "colab_type": "text",
    "id": "HCgzJDuJU92-"
   }
  },
  {
   "cell_type": "markdown",
   "source": "Re-running this will take similar times because we keep hashing the same block with the same nonce. In practice, once a block is found, the miners start mining the next block which contains different transactions. Introducing some random bytes into our block can help you with generating \"new\" blocks to analyse mining and difficulty performance.",
   "metadata": {
    "colab_type": "text",
    "id": "4sZdFEKSU92_"
   }
  },
  {
   "cell_type": "code",
   "source": "# secrets provides access to a secure random number generator. \n# Refer to documentation for what this means. \n# Always be cautious when generating random data for important purposes like keys.\nimport secrets\n# generate random data to append to a block\nrandom_data = secrets.token_bytes(4)\n\ntarget = 4\nnonce = 1\nblock_found = False\nstart = time.time()\nwhile block_found == False:\n    # the block now contains 4 random bytes of data\n    work = hashlib.sha256(bytes(nonce) + pickled_block + random_data)\n    if work.hexdigest()[:target] == '0'*target:\n        end = time.time()\n        block_found = True\n        print('Target Difficulty: '+ str(target))\n        print('Nonce: ' + str(nonce))\n        print('Proof-of-work: ' + work.hexdigest())\n        print('Elapsed time: ' + str(end - start))\n    nonce += 1",
   "metadata": {
    "colab": {},
    "colab_type": "code",
    "id": "Eb0K9yFiU92_",
    "trusted": true,
    "ExecuteTime": {
     "end_time": "2024-08-15T11:25:47.537134Z",
     "start_time": "2024-08-15T11:25:47.156932Z"
    }
   },
   "outputs": [
    {
     "name": "stdout",
     "output_type": "stream",
     "text": [
      "Target Difficulty: 4\n",
      "Nonce: 30609\n",
      "Proof-of-work: 000007d2da2eaddb315599405744401268efd8249075684a0e72db85e2de2ad8\n",
      "Elapsed time: 0.37720823287963867\n"
     ]
    }
   ],
   "execution_count": 169
  },
  {
   "cell_type": "markdown",
   "source": [
    "These results should be fresh. Every time you run this block or access `secrets.token_bytes(4)` the block will change.\n",
    "\n",
    "Compare results I just got:\n",
    "```\n",
    "Target Difficulty: 4\n",
    "Nonce: 67220\n",
    "Proof-of-work: 00003927c8d89164725943089548e9f743623463c2e4fca55e32ba202b46ea45\n",
    "Elapsed time: 1.3762462139129639\n",
    "\n",
    "Target Difficulty: 4\n",
    "Nonce: 1081\n",
    "Proof-of-work: 0000dd3a5dd67cbf15d5f3670e5d08f029a9f37922fd21bb573244856e0411db\n",
    "Elapsed time: 0.0\n",
    "```\n",
    "\n",
    "This shows the lottery-like nature of using hash functions and target difficulty values. The second set found a proof-of-work in 0.00 s and the first one took 1.3762 s!\n",
    "\n",
    "---"
   ],
   "metadata": {
    "colab_type": "text",
    "id": "mDT8_e-LU93C"
   }
  },
  {
   "metadata": {},
   "cell_type": "markdown",
   "source": [
    "## Target In Bitcoin\n",
    "The formula to calculate the difficulty target is given by,\n",
    "\n",
    "$\\text{target} = \\text{coefficient} \\times 2^{8 \\times (\\text{exponent} -3)}$\n",
    "\n",
    "We can see the block contains the target information in the [Bitcoin Office](https://bitcoin.gob.sv/block/). See below,\n",
    "```\n",
    "Version\t0x20190000\n",
    "Bits\t0x17033d76\n",
    "Merkle root a35140ddab3a1ae4ea5cd3b6289605ae794f7b944c2a153406a7d332caea3613\n",
    "```\n",
    "The target is notated as 'bits' and has value '0x17033d76' in Block 856861. In this case, exponent is '0x17' and the coefficient is '0x033d76' "
   ]
  },
  {
   "metadata": {
    "ExecuteTime": {
     "end_time": "2024-08-15T10:49:15.116179Z",
     "start_time": "2024-08-15T10:49:15.109773Z"
    }
   },
   "cell_type": "code",
   "source": [
    "co = 0x033d76\n",
    "ex = 0x17\n",
    "target = co * 2 ** (8 *(ex - 0x3))\n",
    "\n",
    "print(target)\n",
    "print(hex(target))\n",
    "\n",
    "num_zeros = 64 - len(hex(target)[2:])\n",
    "target = '0x'+'0'*num_zeros + hex(target)[2:]\n",
    "\n",
    "print(num_zeros)\n",
    "print(target)"
   ],
   "outputs": [
    {
     "name": "stdout",
     "output_type": "stream",
     "text": [
      "310338180674118587457206844748640968959780028040609792\n",
      "0x33d760000000000000000000000000000000000000000\n",
      "19\n",
      "0x000000000000000000033d760000000000000000000000000000000000000000\n"
     ]
    }
   ],
   "execution_count": 162
  },
  {
   "cell_type": "markdown",
   "source": "## Probability\nAs more miners come online to try to earn coins (and process transactions) the difficulty must adjust to maintain the blocktime. Without this difficulty adjustment the group with the most hashpower would have already mined all the available coins in any proof of work network, likely causing the value to crash.\n\nThe difficulty set in this tutorial goes up by powers of 16; there is a sixteen-fold increase in time expected to find a block as the leading zeroes go from `0000` to `00000`. (Try with 5 or 6 and see how long you have to wait.) What if you want difficulty to increase only by a factor of two? (See exercise #1)\n\nLets look at the probability of finding a block.",
   "metadata": {
    "colab_type": "text",
    "id": "_MF0iUJi_ZWO"
   }
  },
  {
   "cell_type": "code",
   "source": "# one leading zero to start\ndiff = 1\nprob = 1/16\nprint(prob)",
   "metadata": {
    "colab": {},
    "colab_type": "code",
    "id": "Bp2l-mUqDFiD",
    "trusted": true,
    "ExecuteTime": {
     "end_time": "2024-08-15T08:19:11.799261Z",
     "start_time": "2024-08-15T08:19:11.793646Z"
    }
   },
   "outputs": [
    {
     "name": "stdout",
     "output_type": "stream",
     "text": [
      "0.0625\n"
     ]
    }
   ],
   "execution_count": 21
  },
  {
   "cell_type": "code",
   "source": "diff = 2\nprob = 1/(16**diff)\nprint(prob)",
   "metadata": {
    "colab": {},
    "colab_type": "code",
    "id": "2-QkGHB0DakK",
    "trusted": true,
    "ExecuteTime": {
     "end_time": "2024-08-15T08:20:35.956678Z",
     "start_time": "2024-08-15T08:20:35.946726Z"
    }
   },
   "outputs": [
    {
     "name": "stdout",
     "output_type": "stream",
     "text": [
      "0.00390625\n"
     ]
    }
   ],
   "execution_count": 22
  },
  {
   "cell_type": "code",
   "source": "#loop through a range and print the results\n#range(start,stop,step)\nfor diff in range(1,16,1):\n  prob = 1/(16**diff)\n  #formatted to show the relative value\n  print(\"%.20f\" % prob)",
   "metadata": {
    "colab": {},
    "colab_type": "code",
    "id": "sXsYI-x1DnhY",
    "trusted": true,
    "ExecuteTime": {
     "end_time": "2024-08-15T08:20:42.616676Z",
     "start_time": "2024-08-15T08:20:42.598595Z"
    }
   },
   "outputs": [
    {
     "name": "stdout",
     "output_type": "stream",
     "text": [
      "0.06250000000000000000\n",
      "0.00390625000000000000\n",
      "0.00024414062500000000\n",
      "0.00001525878906250000\n",
      "0.00000095367431640625\n",
      "0.00000005960464477539\n",
      "0.00000000372529029846\n",
      "0.00000000023283064365\n",
      "0.00000000001455191523\n",
      "0.00000000000090949470\n",
      "0.00000000000005684342\n",
      "0.00000000000000355271\n",
      "0.00000000000000022204\n",
      "0.00000000000000001388\n",
      "0.00000000000000000087\n"
     ]
    }
   ],
   "execution_count": 23
  },
  {
   "cell_type": "code",
   "source": [
    "#same as above only stored in an array (python list) to plot\n",
    "prob=[]\n",
    "for diff in range(1,11,1):\n",
    "  prob.append(1/(16**diff))\n",
    "print(prob)\n"
   ],
   "metadata": {
    "colab": {},
    "colab_type": "code",
    "id": "jCWErcjPHO35",
    "trusted": true,
    "ExecuteTime": {
     "end_time": "2024-08-15T08:21:01.580583Z",
     "start_time": "2024-08-15T08:21:01.575031Z"
    }
   },
   "outputs": [
    {
     "name": "stdout",
     "output_type": "stream",
     "text": [
      "[0.0625, 0.00390625, 0.000244140625, 1.52587890625e-05, 9.5367431640625e-07, 5.960464477539063e-08, 3.725290298461914e-09, 2.3283064365386963e-10, 1.4551915228366852e-11, 9.094947017729282e-13]\n"
     ]
    }
   ],
   "execution_count": 24
  },
  {
   "cell_type": "code",
   "source": [
    "#plot using matplotlib\n",
    "import matplotlib.pyplot as plt\n",
    "import numpy as np\n",
    "%matplotlib inline\n",
    "fig = plt.figure()\n",
    "ax = fig.add_axes([0,0,1,1])\n",
    "ax.set_xlabel('difficulty')\n",
    "ax.set_ylabel('probability')\n",
    "ax.plot(prob,'y*')\n",
    "\n",
    "ax.text(0, prob[0], f'{(0, prob[0])}', ha='left', va='bottom')\n",
    "plt.show()\n",
    "\n"
   ],
   "metadata": {
    "colab": {},
    "colab_type": "code",
    "id": "h8rcPjTTENOa",
    "trusted": true,
    "ExecuteTime": {
     "end_time": "2024-08-15T08:43:52.272244Z",
     "start_time": "2024-08-15T08:43:52.202466Z"
    }
   },
   "outputs": [
    {
     "data": {
      "text/plain": [
       "<Figure size 640x480 with 1 Axes>"
      ],
      "image/png": "[encoded data removed]"
     },
     "metadata": {},
     "output_type": "display_data"
    }
   ],
   "execution_count": 43
  },
  {
   "cell_type": "markdown",
   "source": "This shows the probability for a single hash to reach our target difficulty: a 6.25% chance to find 1-leading zero. \n\nThe proof of work for Bitcoin block 801276 was:\n`00000000000000000001a5455150df515b3d5900a6320ca46a821d5e046c5530`\n\nThis has 19 leading zeroes! To increase your odds you can (a) use a faster processor (b) use more processors in parallel.\n\n---",
   "metadata": {
    "colab_type": "text",
    "id": "AnfejiO5ODxy"
   }
  },
  {
   "cell_type": "markdown",
   "source": [
    "## Difficulty\n",
    "Up to this point we have used the term target difficulty to mean the number of leading bits that are zero in a hexidecimal format. When looking up difficulty on the [web](http://bitcoin.sipa.be/) you will get a different value, for example: the difficulty when the above block was mined was `86,871,474,313,762.00` (86.87 trillion).\n",
    "\n",
    "What does this mean? Lets use a smaller set for analogy. Suppose the set size was 100; all integers between 0 and 100 are valid possibilities in our lottery. If the target is set at 5, then any number less than 5 is a winner: 0,1,2,3,4. \n",
    "Now, the formula for difficulty is:\n",
    "\n",
    "$\\text{difficulty}=\\frac{\\text{set size}}{\\text{target}}$\n",
    "\n",
    "so, $\\text{difficulty}=\\frac{100}{5}=20$. You can think of this as the number of attempts to \"find\" a number less than 5.\n",
    "\n",
    "The difficulty is a measure of how many times you need to attempt the lottery to get a winner, as a statistical measure, over time.\n"
   ],
   "metadata": {
    "colab_type": "text",
    "id": "p_jrFvbeVtQB"
   }
  },
  {
   "cell_type": "code",
   "source": [
    "# calculate bitcoin's difficulty\n",
    "# the maximum target value which was set for the very first block\n",
    "# 0x00000000ffff0000000000000000000000000000000000000000000000000000 (in hex)\n",
    "set_size = 0x00000000ffff0000000000000000000000000000000000000000000000000000\n",
    "print(set_size)\n",
    "# print(set_s)"
   ],
   "metadata": {
    "colab": {},
    "colab_type": "code",
    "id": "DvDQpbqVc2pX",
    "trusted": true,
    "ExecuteTime": {
     "end_time": "2024-08-15T10:49:29.879798Z",
     "start_time": "2024-08-15T10:49:29.874015Z"
    }
   },
   "outputs": [
    {
     "name": "stdout",
     "output_type": "stream",
     "text": [
      "26959535291011309493156476344723991336010898738574164086137773096960\n"
     ]
    }
   ],
   "execution_count": 163
  },
  {
   "cell_type": "markdown",
   "source": ".\\\n.\\\n.\\\npause for a moment here to reflect on how big this number is :)\\\n.\\\n.\\\n.",
   "metadata": {}
  },
  {
   "cell_type": "code",
   "source": [
    "# recently found block's proof of work (copied from web for block 856861)\n",
    "target = 0x000000000000000000033d760000000000000000000000000000000000000000\n",
    "# print in decimal\n",
    "print(target)\n"
   ],
   "metadata": {
    "colab": {},
    "colab_type": "code",
    "id": "C9fPVH7nhJPV",
    "trusted": true,
    "ExecuteTime": {
     "end_time": "2024-08-15T10:49:31.941310Z",
     "start_time": "2024-08-15T10:49:31.935868Z"
    }
   },
   "outputs": [
    {
     "name": "stdout",
     "output_type": "stream",
     "text": [
      "310338180674118587457206844748640968959780028040609792\n"
     ]
    }
   ],
   "execution_count": 164
  },
  {
   "metadata": {},
   "cell_type": "markdown",
   "source": "You can access the recent block's proof of work in the [Bitcoin Office](https://bitcoin.gob.sv/block/) "
  },
  {
   "cell_type": "code",
   "source": [
    "# calculate difficulty value\n",
    "difficulty = set_size / target\n",
    "print(difficulty)"
   ],
   "metadata": {
    "colab": {},
    "colab_type": "code",
    "id": "jqt8DBeJhdPd",
    "trusted": true,
    "ExecuteTime": {
     "end_time": "2024-08-15T10:49:34.077134Z",
     "start_time": "2024-08-15T10:49:34.071858Z"
    }
   },
   "outputs": [
    {
     "name": "stdout",
     "output_type": "stream",
     "text": [
      "86871474313761.95\n"
     ]
    }
   ],
   "execution_count": 165
  },
  {
   "cell_type": "markdown",
   "source": "# Summary",
   "metadata": {
    "colab_type": "text",
    "id": "oQNb2pIcU93C"
   }
  },
  {
   "cell_type": "markdown",
   "source": "In this tutorial we have:<br>\n - added a nonce to our block\n - hashed blocks until they meet a difficulty requirement\n - investigated probabilities using `matplotlib`\n - defined and calculated difficulty\n \nWhat we have __not__ done is:<br>\n - set a target value that is not a power of 16\n - dynamically adjusted target values\n - appended mined blocks to a chain\n \nPython libraries that this code depends on:\n - [hashlib](https://docs.python.org/3/library/hashlib.html)\n - [pickle](https://docs.python.org/3/library/pickle.html)\n - [secrets](https://docs.python.org/3/library/secrets.html)\n - [time](https://docs.python.org/3/library/time.html)\n\nUseful links:\n - [hex to decimal converter](https://www.rapidtables.com/convert/number/hex-to-decimal.html)\n - [matplotlib quick tutorial](https://www.tutorialspoint.com/matplotlib/matplotlib_quick_guide.htm)\n - [bitcoin difficulty](https://en.bitcoin.it/wiki/Difficulty)\n\n ---",
   "metadata": {
    "colab_type": "text",
    "id": "DNjcKdvnU93D"
   }
  },
  {
   "cell_type": "markdown",
   "source": "# Exercises",
   "metadata": {
    "colab_type": "text",
    "id": "a7sz5xcAU93E"
   }
  },
  {
   "cell_type": "markdown",
   "source": [
    "1. Mining difficulty is not only represented by leading zeroes (powers of 16) but by a value (hex number) that is recalculated every 2016 blocks (in Bitcoin). Write a script demonstrating simplified proof-of-work, using\n",
    "```python\n",
    "if hash < target: block_found = True\n",
    "```\n",
    "and run your simplified proof-of-work in two different difficulties.\n",
    "\n",
    "2. Write a script to modify the difficulty every time a block is found faster than expected (increase difficulty) and readjusts if a block is found slower than expected (decrease difficulty).\n",
    "\n",
    "3. Calculate the hashpower of your PC and estimate how long it would take to find a block in the [present bitcoin network](https://bitinfocharts.com/comparison/bitcoin-hashrate.html).\n",
    "\n",
    "4. Can you have a proof of work blockchain with a realtime difficulty adjustment? What are some of the advantages of this setup? Limitiations?"
   ],
   "metadata": {
    "colab_type": "text",
    "id": "JEy83VEwU93F"
   }
  }
 ]
}
